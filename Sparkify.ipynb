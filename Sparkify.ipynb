{
 "cells": [
  {
   "cell_type": "markdown",
   "metadata": {},
   "source": [
    "# Sparkify Project Workspace\n",
    "This workspace contains a tiny subset (128MB) of the full dataset available (12GB). Feel free to use this workspace to build your project, or to explore a smaller subset with Spark before deploying your cluster on the cloud. Instructions for setting up your Spark cluster is included in the last lesson of the Extracurricular Spark Course content.\n",
    "\n",
    "You can follow the steps below to guide your data analysis and model building portion of this project."
   ]
  },
  {
   "cell_type": "code",
   "execution_count": 1,
   "metadata": {},
   "outputs": [],
   "source": [
    "# import libraries\n",
    "import os\n",
    "\n",
    "from pyspark.sql import SparkSession;\n",
    "from pyspark.sql.functions import regexp_replace, month, from_unixtime, to_timestamp, lead, datediff, to_date, mean, avg, isnan, countDistinct, count,when,col, concat, desc, explode, lit, min, max, split, udf, isnull;\n",
    "from pyspark.sql.types import IntegerType;\n",
    "\n",
    "from pyspark.ml.feature import RegexTokenizer, MinMaxScaler, CountVectorizer,IDF, StringIndexer,VectorAssembler, Normalizer, StandardScaler;\n",
    "from pyspark.ml import Pipeline;\n",
    "from pyspark.ml.classification import LogisticRegression, LinearSVC, RandomForestClassifier, GBTClassifier;\n",
    "from pyspark.ml.evaluation import MulticlassClassificationEvaluator;\n",
    "from pyspark.ml.tuning import CrossValidator, ParamGridBuilder\n",
    "from pyspark.sql import Window\n",
    "from pyspark.sql.functions import sum as Fsum\n",
    "\n",
    "import re;\n",
    "import datetime;\n",
    "\n",
    "import matplotlib.pyplot as plt;\n",
    "import pandas as pd;\n",
    "import seaborn as sns;\n",
    "import numpy as np;\n",
    "from itertools import cycle, islice;"
   ]
  },
  {
   "cell_type": "code",
   "execution_count": 2,
   "metadata": {},
   "outputs": [],
   "source": [
    "# create a Spark session\n",
    "spark = SparkSession\\\n",
    "                    .builder\\\n",
    "                    .master('local')\\\n",
    "                    .appName(\"Sparkify Project\")\\\n",
    "                    .getOrCreate();"
   ]
  },
  {
   "cell_type": "markdown",
   "metadata": {},
   "source": [
    "# Load and Clean Dataset\n",
    "In this workspace, the mini-dataset file is `mini_sparkify_event_data.json`. Load and clean the dataset, checking for invalid or missing data - for example, records without userids or sessionids. "
   ]
  },
  {
   "cell_type": "code",
   "execution_count": 3,
   "metadata": {},
   "outputs": [
    {
     "data": {
      "text/plain": [
       "DataFrame[artist: string, auth: string, firstName: string, gender: string, itemInSession: bigint, lastName: string, length: double, level: string, location: string, method: string, page: string, registration: bigint, sessionId: bigint, song: string, status: bigint, ts: bigint, userAgent: string, userId: string]"
      ]
     },
     "execution_count": 3,
     "metadata": {},
     "output_type": "execute_result"
    }
   ],
   "source": [
    "#load data \"mini_sparkify_event_data.json\"\n",
    "df = spark.read.json('mini_sparkify_event_data.json');\n",
    "\n",
    "#see top records in dataset\n",
    "df.persist()"
   ]
  },
  {
   "cell_type": "code",
   "execution_count": 4,
   "metadata": {},
   "outputs": [
    {
     "data": {
      "text/plain": [
       "Row(artist='Martha Tilston', auth='Logged In', firstName='Colin', gender='M', itemInSession=50, lastName='Freeman', length=277.89016, level='paid', location='Bakersfield, CA', method='PUT', page='NextSong', registration=1538173362000, sessionId=29, song='Rockpools', status=200, ts=1538352117000, userAgent='Mozilla/5.0 (Windows NT 6.1; WOW64; rv:31.0) Gecko/20100101 Firefox/31.0', userId='30')"
      ]
     },
     "execution_count": 4,
     "metadata": {},
     "output_type": "execute_result"
    }
   ],
   "source": [
    "df.head()"
   ]
  },
  {
   "cell_type": "code",
   "execution_count": 5,
   "metadata": {},
   "outputs": [
    {
     "name": "stdout",
     "output_type": "stream",
     "text": [
      "[Row(artist='Martha Tilston', auth='Logged In', firstName='Colin', gender='M', itemInSession=50, lastName='Freeman', length=277.89016, level='paid', location='Bakersfield, CA', method='PUT', page='NextSong', registration=1538173362000, sessionId=29, song='Rockpools', status=200, ts=1538352117000, userAgent='Mozilla/5.0 (Windows NT 6.1; WOW64; rv:31.0) Gecko/20100101 Firefox/31.0', userId='30'), Row(artist='Five Iron Frenzy', auth='Logged In', firstName='Micah', gender='M', itemInSession=79, lastName='Long', length=236.09424, level='free', location='Boston-Cambridge-Newton, MA-NH', method='PUT', page='NextSong', registration=1538331630000, sessionId=8, song='Canada', status=200, ts=1538352180000, userAgent='\"Mozilla/5.0 (Windows NT 6.1; WOW64) AppleWebKit/537.36 (KHTML, like Gecko) Chrome/37.0.2062.103 Safari/537.36\"', userId='9'), Row(artist='Adam Lambert', auth='Logged In', firstName='Colin', gender='M', itemInSession=51, lastName='Freeman', length=282.8273, level='paid', location='Bakersfield, CA', method='PUT', page='NextSong', registration=1538173362000, sessionId=29, song='Time For Miracles', status=200, ts=1538352394000, userAgent='Mozilla/5.0 (Windows NT 6.1; WOW64; rv:31.0) Gecko/20100101 Firefox/31.0', userId='30'), Row(artist='Enigma', auth='Logged In', firstName='Micah', gender='M', itemInSession=80, lastName='Long', length=262.71302, level='free', location='Boston-Cambridge-Newton, MA-NH', method='PUT', page='NextSong', registration=1538331630000, sessionId=8, song='Knocking On Forbidden Doors', status=200, ts=1538352416000, userAgent='\"Mozilla/5.0 (Windows NT 6.1; WOW64) AppleWebKit/537.36 (KHTML, like Gecko) Chrome/37.0.2062.103 Safari/537.36\"', userId='9'), Row(artist='Daft Punk', auth='Logged In', firstName='Colin', gender='M', itemInSession=52, lastName='Freeman', length=223.60771, level='paid', location='Bakersfield, CA', method='PUT', page='NextSong', registration=1538173362000, sessionId=29, song='Harder Better Faster Stronger', status=200, ts=1538352676000, userAgent='Mozilla/5.0 (Windows NT 6.1; WOW64; rv:31.0) Gecko/20100101 Firefox/31.0', userId='30')]\n"
     ]
    }
   ],
   "source": [
    "print(df.take(5));"
   ]
  },
  {
   "cell_type": "code",
   "execution_count": 6,
   "metadata": {},
   "outputs": [
    {
     "name": "stdout",
     "output_type": "stream",
     "text": [
      "root\n",
      " |-- artist: string (nullable = true)\n",
      " |-- auth: string (nullable = true)\n",
      " |-- firstName: string (nullable = true)\n",
      " |-- gender: string (nullable = true)\n",
      " |-- itemInSession: long (nullable = true)\n",
      " |-- lastName: string (nullable = true)\n",
      " |-- length: double (nullable = true)\n",
      " |-- level: string (nullable = true)\n",
      " |-- location: string (nullable = true)\n",
      " |-- method: string (nullable = true)\n",
      " |-- page: string (nullable = true)\n",
      " |-- registration: long (nullable = true)\n",
      " |-- sessionId: long (nullable = true)\n",
      " |-- song: string (nullable = true)\n",
      " |-- status: long (nullable = true)\n",
      " |-- ts: long (nullable = true)\n",
      " |-- userAgent: string (nullable = true)\n",
      " |-- userId: string (nullable = true)\n",
      "\n"
     ]
    }
   ],
   "source": [
    "#lets look at shema of data :\n",
    "df.printSchema();"
   ]
  },
  {
   "cell_type": "code",
   "execution_count": 7,
   "metadata": {},
   "outputs": [
    {
     "name": "stdout",
     "output_type": "stream",
     "text": [
      "The number of rows in the dataframe is 286500\n",
      "The number of columns in the dataframe is 18\n",
      "columns Present in data set in the dataframe['artist', 'auth', 'firstName', 'gender', 'itemInSession', 'lastName', 'length', 'level', 'location', 'method', 'page', 'registration', 'sessionId', 'song', 'status', 'ts', 'userAgent', 'userId']\n"
     ]
    }
   ],
   "source": [
    "# number of rows in the dataframe\n",
    "print(\"The number of rows in the dataframe is {}\".format(df.count()))\n",
    "print(\"The number of columns in the dataframe is {}\".format(len(df.columns)))\n",
    "print(\"columns Present in data set in the dataframe{}\".format(df.columns));"
   ]
  },
  {
   "cell_type": "code",
   "execution_count": 8,
   "metadata": {},
   "outputs": [],
   "source": [
    "# drop any cells with missing user id or session id\n",
    "df = df.dropna(how = 'any', subset = ['userId', 'sessionId'])"
   ]
  },
  {
   "cell_type": "code",
   "execution_count": 9,
   "metadata": {},
   "outputs": [
    {
     "data": {
      "text/plain": [
       "278154"
      ]
     },
     "execution_count": 9,
     "metadata": {},
     "output_type": "execute_result"
    }
   ],
   "source": [
    "# drop any cell that has an empty string in userId\n",
    "df = df[df.userId != \"\"]\n",
    "df.count()"
   ]
  },
  {
   "cell_type": "code",
   "execution_count": 10,
   "metadata": {},
   "outputs": [
    {
     "data": {
      "text/html": [
       "<div>\n",
       "<style scoped>\n",
       "    .dataframe tbody tr th:only-of-type {\n",
       "        vertical-align: middle;\n",
       "    }\n",
       "\n",
       "    .dataframe tbody tr th {\n",
       "        vertical-align: top;\n",
       "    }\n",
       "\n",
       "    .dataframe thead th {\n",
       "        text-align: right;\n",
       "    }\n",
       "</style>\n",
       "<table border=\"1\" class=\"dataframe\">\n",
       "  <thead>\n",
       "    <tr style=\"text-align: right;\">\n",
       "      <th></th>\n",
       "      <th>0</th>\n",
       "      <th>1</th>\n",
       "      <th>2</th>\n",
       "      <th>3</th>\n",
       "      <th>4</th>\n",
       "    </tr>\n",
       "  </thead>\n",
       "  <tbody>\n",
       "    <tr>\n",
       "      <th>summary</th>\n",
       "      <td>count</td>\n",
       "      <td>mean</td>\n",
       "      <td>stddev</td>\n",
       "      <td>min</td>\n",
       "      <td>max</td>\n",
       "    </tr>\n",
       "    <tr>\n",
       "      <th>artist</th>\n",
       "      <td>228108</td>\n",
       "      <td>551.0852017937219</td>\n",
       "      <td>1217.7693079161374</td>\n",
       "      <td>!!!</td>\n",
       "      <td>ÃÂlafur Arnalds</td>\n",
       "    </tr>\n",
       "    <tr>\n",
       "      <th>auth</th>\n",
       "      <td>278154</td>\n",
       "      <td>None</td>\n",
       "      <td>None</td>\n",
       "      <td>Cancelled</td>\n",
       "      <td>Logged In</td>\n",
       "    </tr>\n",
       "    <tr>\n",
       "      <th>firstName</th>\n",
       "      <td>278154</td>\n",
       "      <td>None</td>\n",
       "      <td>None</td>\n",
       "      <td>Adelaida</td>\n",
       "      <td>Zyonna</td>\n",
       "    </tr>\n",
       "    <tr>\n",
       "      <th>gender</th>\n",
       "      <td>278154</td>\n",
       "      <td>None</td>\n",
       "      <td>None</td>\n",
       "      <td>F</td>\n",
       "      <td>M</td>\n",
       "    </tr>\n",
       "    <tr>\n",
       "      <th>itemInSession</th>\n",
       "      <td>278154</td>\n",
       "      <td>114.89918174824018</td>\n",
       "      <td>129.851729399489</td>\n",
       "      <td>0</td>\n",
       "      <td>1321</td>\n",
       "    </tr>\n",
       "    <tr>\n",
       "      <th>lastName</th>\n",
       "      <td>278154</td>\n",
       "      <td>None</td>\n",
       "      <td>None</td>\n",
       "      <td>Adams</td>\n",
       "      <td>Wright</td>\n",
       "    </tr>\n",
       "    <tr>\n",
       "      <th>length</th>\n",
       "      <td>228108</td>\n",
       "      <td>249.1171819778458</td>\n",
       "      <td>99.23517921058361</td>\n",
       "      <td>0.78322</td>\n",
       "      <td>3024.66567</td>\n",
       "    </tr>\n",
       "    <tr>\n",
       "      <th>level</th>\n",
       "      <td>278154</td>\n",
       "      <td>None</td>\n",
       "      <td>None</td>\n",
       "      <td>free</td>\n",
       "      <td>paid</td>\n",
       "    </tr>\n",
       "    <tr>\n",
       "      <th>location</th>\n",
       "      <td>278154</td>\n",
       "      <td>None</td>\n",
       "      <td>None</td>\n",
       "      <td>Albany, OR</td>\n",
       "      <td>Winston-Salem, NC</td>\n",
       "    </tr>\n",
       "    <tr>\n",
       "      <th>method</th>\n",
       "      <td>278154</td>\n",
       "      <td>None</td>\n",
       "      <td>None</td>\n",
       "      <td>GET</td>\n",
       "      <td>PUT</td>\n",
       "    </tr>\n",
       "    <tr>\n",
       "      <th>page</th>\n",
       "      <td>278154</td>\n",
       "      <td>None</td>\n",
       "      <td>None</td>\n",
       "      <td>About</td>\n",
       "      <td>Upgrade</td>\n",
       "    </tr>\n",
       "    <tr>\n",
       "      <th>registration</th>\n",
       "      <td>278154</td>\n",
       "      <td>1.5353588340844272E12</td>\n",
       "      <td>3.291321616327586E9</td>\n",
       "      <td>1521380675000</td>\n",
       "      <td>1543247354000</td>\n",
       "    </tr>\n",
       "    <tr>\n",
       "      <th>sessionId</th>\n",
       "      <td>278154</td>\n",
       "      <td>1042.5616241362698</td>\n",
       "      <td>726.5010362219813</td>\n",
       "      <td>1</td>\n",
       "      <td>2474</td>\n",
       "    </tr>\n",
       "    <tr>\n",
       "      <th>song</th>\n",
       "      <td>228108</td>\n",
       "      <td>Infinity</td>\n",
       "      <td>NaN</td>\n",
       "      <td>ÃÂg ÃÂtti GrÃÂ¡a ÃÂsku</td>\n",
       "      <td>ÃÂau hafa sloppiÃÂ° undan ÃÂ¾unga myrkursins</td>\n",
       "    </tr>\n",
       "    <tr>\n",
       "      <th>status</th>\n",
       "      <td>278154</td>\n",
       "      <td>209.10321620397335</td>\n",
       "      <td>30.151388851328214</td>\n",
       "      <td>200</td>\n",
       "      <td>404</td>\n",
       "    </tr>\n",
       "    <tr>\n",
       "      <th>ts</th>\n",
       "      <td>278154</td>\n",
       "      <td>1.5409589154318713E12</td>\n",
       "      <td>1.5068287123306298E9</td>\n",
       "      <td>1538352117000</td>\n",
       "      <td>1543799476000</td>\n",
       "    </tr>\n",
       "    <tr>\n",
       "      <th>userAgent</th>\n",
       "      <td>278154</td>\n",
       "      <td>None</td>\n",
       "      <td>None</td>\n",
       "      <td>\"Mozilla/5.0 (Macintosh; Intel Mac OS X 10_10)...</td>\n",
       "      <td>Mozilla/5.0 (compatible; MSIE 9.0; Windows NT ...</td>\n",
       "    </tr>\n",
       "    <tr>\n",
       "      <th>userId</th>\n",
       "      <td>278154</td>\n",
       "      <td>59682.02278593872</td>\n",
       "      <td>109091.9499991047</td>\n",
       "      <td>10</td>\n",
       "      <td>99</td>\n",
       "    </tr>\n",
       "  </tbody>\n",
       "</table>\n",
       "</div>"
      ],
      "text/plain": [
       "                    0                      1                     2  \\\n",
       "summary         count                   mean                stddev   \n",
       "artist         228108      551.0852017937219    1217.7693079161374   \n",
       "auth           278154                   None                  None   \n",
       "firstName      278154                   None                  None   \n",
       "gender         278154                   None                  None   \n",
       "itemInSession  278154     114.89918174824018      129.851729399489   \n",
       "lastName       278154                   None                  None   \n",
       "length         228108      249.1171819778458     99.23517921058361   \n",
       "level          278154                   None                  None   \n",
       "location       278154                   None                  None   \n",
       "method         278154                   None                  None   \n",
       "page           278154                   None                  None   \n",
       "registration   278154  1.5353588340844272E12   3.291321616327586E9   \n",
       "sessionId      278154     1042.5616241362698     726.5010362219813   \n",
       "song           228108               Infinity                   NaN   \n",
       "status         278154     209.10321620397335    30.151388851328214   \n",
       "ts             278154  1.5409589154318713E12  1.5068287123306298E9   \n",
       "userAgent      278154                   None                  None   \n",
       "userId         278154      59682.02278593872     109091.9499991047   \n",
       "\n",
       "                                                               3  \\\n",
       "summary                                                      min   \n",
       "artist                                                       !!!   \n",
       "auth                                                   Cancelled   \n",
       "firstName                                               Adelaida   \n",
       "gender                                                         F   \n",
       "itemInSession                                                  0   \n",
       "lastName                                                   Adams   \n",
       "length                                                   0.78322   \n",
       "level                                                       free   \n",
       "location                                              Albany, OR   \n",
       "method                                                       GET   \n",
       "page                                                       About   \n",
       "registration                                       1521380675000   \n",
       "sessionId                                                      1   \n",
       "song                              \n",
       "ÃÂg ÃÂtti GrÃÂ¡a ÃÂsku   \n",
       "status                                                       200   \n",
       "ts                                                 1538352117000   \n",
       "userAgent      \"Mozilla/5.0 (Macintosh; Intel Mac OS X 10_10)...   \n",
       "userId                                                        10   \n",
       "\n",
       "                                                               4  \n",
       "summary                                                      max  \n",
       "artist                                         ÃÂlafur Arnalds  \n",
       "auth                                                   Logged In  \n",
       "firstName                                                 Zyonna  \n",
       "gender                                                         M  \n",
       "itemInSession                                               1321  \n",
       "lastName                                                  Wright  \n",
       "length                                                3024.66567  \n",
       "level                                                       paid  \n",
       "location                                       Winston-Salem, NC  \n",
       "method                                                       PUT  \n",
       "page                                                     Upgrade  \n",
       "registration                                       1543247354000  \n",
       "sessionId                                                   2474  \n",
       "song            ÃÂau hafa sloppiÃÂ° undan ÃÂ¾unga myrkursins  \n",
       "status                                                       404  \n",
       "ts                                                 1543799476000  \n",
       "userAgent      Mozilla/5.0 (compatible; MSIE 9.0; Windows NT ...  \n",
       "userId                                                        99  "
      ]
     },
     "execution_count": 10,
     "metadata": {},
     "output_type": "execute_result"
    }
   ],
   "source": [
    "#discribing all the columns in dataframe\n",
    "df.describe().toPandas().transpose()"
   ]
  },
  {
   "cell_type": "markdown",
   "metadata": {},
   "source": [
    "After cleaning the dataset, we now checking for invalid or missing data. To illustrate, records without userids or session id's"
   ]
  },
  {
   "cell_type": "code",
   "execution_count": 11,
   "metadata": {},
   "outputs": [
    {
     "data": {
      "text/plain": [
       "artist           50046\n",
       "auth                 0\n",
       "firstName            0\n",
       "gender               0\n",
       "itemInSession        0\n",
       "lastName             0\n",
       "length           50046\n",
       "level                0\n",
       "location             0\n",
       "method               0\n",
       "page                 0\n",
       "registration         0\n",
       "sessionId            0\n",
       "song             50046\n",
       "status               0\n",
       "ts                   0\n",
       "userAgent            0\n",
       "userId               0\n",
       "dtype: int64"
      ]
     },
     "execution_count": 11,
     "metadata": {},
     "output_type": "execute_result"
    }
   ],
   "source": [
    "# check null values in columns(userId and sessionId has none)\n",
    "df.toPandas().isnull().sum()"
   ]
  },
  {
   "cell_type": "code",
   "execution_count": 12,
   "metadata": {},
   "outputs": [
    {
     "data": {
      "text/plain": [
       "150138"
      ]
     },
     "execution_count": 12,
     "metadata": {},
     "output_type": "execute_result"
    }
   ],
   "source": [
    "# sum all null items\n",
    "df.toPandas().isnull().sum().sum()"
   ]
  },
  {
   "cell_type": "code",
   "execution_count": 13,
   "metadata": {},
   "outputs": [
    {
     "name": "stdout",
     "output_type": "stream",
     "text": [
      "+------+\n",
      "|userId|\n",
      "+------+\n",
      "|    10|\n",
      "|   100|\n",
      "|100001|\n",
      "|100002|\n",
      "|100003|\n",
      "|100004|\n",
      "|100005|\n",
      "|100006|\n",
      "|100007|\n",
      "|100008|\n",
      "|100009|\n",
      "|100010|\n",
      "|100011|\n",
      "|100012|\n",
      "|100013|\n",
      "|100014|\n",
      "|100015|\n",
      "|100016|\n",
      "|100017|\n",
      "|100018|\n",
      "+------+\n",
      "only showing top 20 rows\n",
      "\n"
     ]
    }
   ],
   "source": [
    "# inspect userId column for the first 20 columns\n",
    "df.select('userId').dropDuplicates().sort('userId').show(20)\n"
   ]
  },
  {
   "cell_type": "code",
   "execution_count": 14,
   "metadata": {},
   "outputs": [],
   "source": [
    "# change the original timestamp in the dataset to the common format\n",
    "get_time = udf(lambda x: pd.Timestamp(x / 1000.0,unit='s').strftime(\"%Y-%m-%d %H:%M:%S\"))\n",
    "df = df.withColumn(\"time\", get_time(df.ts)).withColumn('registration_time',get_time(df.registration))\n",
    "df = df.withColumn('month', month(col('time')))\n",
    "df = df.withColumn('Date', from_unixtime(col('ts')/1000).cast(\"date\"))"
   ]
  },
  {
   "cell_type": "markdown",
   "metadata": {},
   "source": [
    "# Exploratory Data Analysis\n",
    "When you're working with the full dataset, perform EDA by loading a small subset of the data and doing basic manipulations within Spark. In this workspace, you are already provided a small subset of data you can explore.\n",
    "\n",
    "### Define Churn\n",
    "\n",
    "Once you've done some preliminary analysis, create a column `Churn` to use as the label for your model. I suggest using the `Cancellation Confirmation` events to define your churn, which happen for both paid and free users. As a bonus task, you can also look into the `Downgrade` events.\n",
    "\n",
    "### Explore Data\n",
    "Once you've defined churn, perform some exploratory data analysis to observe the behavior for users who stayed vs users who churned. You can start by exploring aggregates on these two groups of users, observing how much of a specific action they experienced per a certain time unit or number of songs played."
   ]
  },
  {
   "cell_type": "markdown",
   "metadata": {},
   "source": [
    "#### Churn is an event that occurs when a user discontinues a subscription from a business."
   ]
  },
  {
   "cell_type": "markdown",
   "metadata": {},
   "source": [
    "## Preliminary Exploratory Data analysis"
   ]
  },
  {
   "cell_type": "markdown",
   "metadata": {},
   "source": [
    "##### Using page =='Cancellation Confirmation' & auth =='Cancelled' we can deduce our Target Variable ie. if users churn or not"
   ]
  },
  {
   "cell_type": "code",
   "execution_count": 15,
   "metadata": {},
   "outputs": [
    {
     "name": "stdout",
     "output_type": "stream",
     "text": [
      "+--------------------+-----------+\n",
      "|                page|count(page)|\n",
      "+--------------------+-----------+\n",
      "|              Cancel|         52|\n",
      "|    Submit Downgrade|         63|\n",
      "|         Thumbs Down|       2546|\n",
      "|                Home|      10082|\n",
      "|           Downgrade|       2055|\n",
      "|         Roll Advert|       3933|\n",
      "|              Logout|       3226|\n",
      "|       Save Settings|        310|\n",
      "|Cancellation Conf...|         52|\n",
      "|               About|        495|\n",
      "|            Settings|       1514|\n",
      "|     Add to Playlist|       6526|\n",
      "|          Add Friend|       4277|\n",
      "|            NextSong|     228108|\n",
      "|           Thumbs Up|      12551|\n",
      "|                Help|       1454|\n",
      "|             Upgrade|        499|\n",
      "|               Error|        252|\n",
      "|      Submit Upgrade|        159|\n",
      "+--------------------+-----------+\n",
      "\n"
     ]
    }
   ],
   "source": [
    "df.select('page','UserId').groupby('page').agg({'page':'count'}).select('page','count(page)').show()"
   ]
  },
  {
   "cell_type": "code",
   "execution_count": 16,
   "metadata": {},
   "outputs": [
    {
     "name": "stdout",
     "output_type": "stream",
     "text": [
      "+---------+-----------+\n",
      "|     auth|count(auth)|\n",
      "+---------+-----------+\n",
      "|Cancelled|         52|\n",
      "|Logged In|     278102|\n",
      "+---------+-----------+\n",
      "\n"
     ]
    }
   ],
   "source": [
    "df.select('auth','UserId').groupby('auth').agg({'auth':'count'}).select('auth','count(auth)').show()"
   ]
  },
  {
   "cell_type": "markdown",
   "metadata": {},
   "source": [
    "## Observations:\n",
    "\n",
    "This dataframe groupings above shows the same value counts for cancelled and cancellation confirmation attribute. This is a confirmation that there is no userId with only one factor. Users with cancellation confirmation requests also executed the cancelled feature.\n",
    "\n",
    "These are good indicators to easily identify churned users. In summary, we could define churned users as those users who have visited the ‘Cancelation Confirmation’ page and also definitely visited 'Cancelled' page. In addition, we could take the ‘Submit Downgrade’ column into consideration."
   ]
  },
  {
   "cell_type": "markdown",
   "metadata": {},
   "source": [
    "### Label to caterorize targets(churn or not)\n",
    "\n"
   ]
  },
  {
   "cell_type": "markdown",
   "metadata": {},
   "source": [
    "Next, let us define a churn column by using a user defined function which labels all churned users with a 1 and 0 if otherwise:"
   ]
  },
  {
   "cell_type": "code",
   "execution_count": 17,
   "metadata": {},
   "outputs": [],
   "source": [
    "def label(df):\n",
    "    \"\"\"\n",
    "    Function to create a dataframe containing targets column(0-churn and 1-non-churn) and respective counts\n",
    "    Input \n",
    "    df: spark DataFrame\n",
    "    Output \n",
    "    df : contains labelled targets with the churn column\n",
    "    \"\"\"\n",
    "   \n",
    "    label_df=df.withColumn('churn',when(col('page')=='Cancellation Confirmation', 1).otherwise(0)).\\\n",
    "                            groupBy('userId').agg(Fsum('churn').alias('churn'))\n",
    "    print(label_df.groupBy('churn').count().show())\n",
    "    churned_rate = label_df.select(avg(\"churn\")).collect()[0][\"avg(churn)\"]\n",
    "    print(f\"percentage churn: {churned_rate * 100:,.2f}%\")\n",
    "\n",
    "    df = df.join(label_df, on='userId')\n",
    "    return df"
   ]
  },
  {
   "cell_type": "code",
   "execution_count": 18,
   "metadata": {},
   "outputs": [
    {
     "name": "stdout",
     "output_type": "stream",
     "text": [
      "+-----+-----+\n",
      "|churn|count|\n",
      "+-----+-----+\n",
      "|    0|  173|\n",
      "|    1|   52|\n",
      "+-----+-----+\n",
      "\n",
      "None\n",
      "percentage churn: 23.11%\n"
     ]
    }
   ],
   "source": [
    "df = label(df)"
   ]
  },
  {
   "cell_type": "markdown",
   "metadata": {},
   "source": [
    "## Analyzing users that stayed versus users that churned using certain features"
   ]
  },
  {
   "cell_type": "code",
   "execution_count": 19,
   "metadata": {},
   "outputs": [],
   "source": [
    "#Exploratory Data Analysis using various columns\n",
    "def exploratory_data_analysis(df,col_name):\n",
    "    \"\"\"\n",
    "    prints countplot of input col\n",
    "    Input \n",
    "    df: spark DataFrame\n",
    "    col_name : the column with counted values\n",
    "    Output :\n",
    "    None\n",
    "    \n",
    "    \"\"\"\n",
    "    pd = df.select([\"userId\", col_name, \"churn\"]).toPandas()\n",
    "    sns.countplot(x=col_name, hue=\"churn\", data=pd);"
   ]
  },
  {
   "cell_type": "code",
   "execution_count": 20,
   "metadata": {},
   "outputs": [
    {
     "data": {
      "image/png": "[encoded data removed]",
      "text/plain": [
       "<Figure size 432x288 with 1 Axes>"
      ]
     },
     "metadata": {
      "needs_background": "light"
     },
     "output_type": "display_data"
    }
   ],
   "source": [
    "# exploratory data analysis per gender\n",
    "exploratory_data_analysis(df,\"gender\")"
   ]
  },
  {
   "cell_type": "markdown",
   "metadata": {},
   "source": [
    "##### From the visulaization above more male users churn than female users"
   ]
  },
  {
   "cell_type": "code",
   "execution_count": 21,
   "metadata": {},
   "outputs": [
    {
     "data": {
      "image/png": "[encoded data removed]",
      "text/plain": [
       "<Figure size 432x288 with 1 Axes>"
      ]
     },
     "metadata": {
      "needs_background": "light"
     },
     "output_type": "display_data"
    }
   ],
   "source": [
    "# exploratory data analysis per level\n",
    "exploratory_data_analysis(df,\"level\")"
   ]
  },
  {
   "cell_type": "markdown",
   "metadata": {},
   "source": [
    "##### From the visualization above users that paid for the services have higher churn rate than users that access services for free"
   ]
  },
  {
   "cell_type": "code",
   "execution_count": 22,
   "metadata": {},
   "outputs": [
    {
     "name": "stdout",
     "output_type": "stream",
     "text": [
      "+--------+\n",
      "|location|\n",
      "+--------+\n",
      "|      CA|\n",
      "|   MA-NH|\n",
      "|      CA|\n",
      "|   MA-NH|\n",
      "|      CA|\n",
      "|   MA-NH|\n",
      "|   MA-NH|\n",
      "|      CA|\n",
      "|      CA|\n",
      "|      CA|\n",
      "+--------+\n",
      "only showing top 10 rows\n",
      "\n"
     ]
    }
   ],
   "source": [
    "# location name too long;  extract states from its respective location\n",
    "df = df.withColumn(\"location\", regexp_replace(\"location\", '[^a-zA-Z0-9\\,\\-]', ''))\\\n",
    "        .withColumn('location', split(col('location'),',').getItem(1))\n",
    "df.select('location').show(n=10)"
   ]
  },
  {
   "cell_type": "code",
   "execution_count": 23,
   "metadata": {},
   "outputs": [
    {
     "data": {
      "text/plain": [
       "<AxesSubplot:xlabel='location'>"
      ]
     },
     "execution_count": 23,
     "metadata": {},
     "output_type": "execute_result"
    },
    {
     "data": {
      "image/png": "[encoded data removed]",
      "text/plain": [
       "<Figure size 1080x576 with 1 Axes>"
      ]
     },
     "metadata": {
      "needs_background": "light"
     },
     "output_type": "display_data"
    }
   ],
   "source": [
    "# exploratory data analysis per location\n",
    "df_state_count= df.select('userId','location','churn').groupby('location','churn').count().toPandas().sort_values(by='count')\n",
    "fig = plt.figure(figsize=(15,8))\n",
    "ax = fig.gca()\n",
    "df_state_count.pivot(index='location', columns='churn', values='count').plot(kind='bar', ax=ax)"
   ]
  },
  {
   "cell_type": "markdown",
   "metadata": {},
   "source": [
    "##### From the visulization above, some locations have churned users while others have no churned users at all."
   ]
  },
  {
   "cell_type": "code",
   "execution_count": 24,
   "metadata": {},
   "outputs": [
    {
     "data": {
      "image/png": "[encoded data removed]",
      "text/plain": [
       "<Figure size 432x288 with 1 Axes>"
      ]
     },
     "metadata": {
      "needs_background": "light"
     },
     "output_type": "display_data"
    }
   ],
   "source": [
    "# Lets visualize the gender distribution for number of songs played per session for churned and active users\n",
    "total_songs_df = df.where('page == \"NextSong\"').groupby(['churn', 'userId', 'sessionId', 'gender']).count()\\\n",
    "    .groupby(['churn', 'userId', 'gender']).agg({'count': 'avg'})\\\n",
    "    .withColumnRenamed('avg(count)', 'average_played_songs').toPandas()\n",
    "\n",
    "ax = sns.violinplot('churn', y = 'average_played_songs', hue = 'gender', data = total_songs_df)\n",
    "\n"
   ]
  },
  {
   "cell_type": "markdown",
   "metadata": {},
   "source": [
    "###### From the visualization above, we can clearly observe that the churned users played less number of songs per session when compared to active users "
   ]
  },
  {
   "cell_type": "code",
   "execution_count": 25,
   "metadata": {},
   "outputs": [
    {
     "data": {
      "text/plain": [
       "<AxesSubplot:xlabel='count', ylabel='churn'>"
      ]
     },
     "execution_count": 25,
     "metadata": {},
     "output_type": "execute_result"
    },
    {
     "data": {
      "image/png": "[encoded data removed]",
      "text/plain": [
       "<Figure size 432x288 with 1 Axes>"
      ]
     },
     "metadata": {
      "needs_background": "light"
     },
     "output_type": "display_data"
    }
   ],
   "source": [
    "# Let's visualize the gender distribution for total number of operations per session between normal and churned users\n",
    "df_ops = df.groupby(\"churn\", \"userId\", \"sessionId\", 'gender').count().toPandas()\n",
    "sns.boxplot(x = 'count', y = 'churn', orient = 'horizontal', data = df_ops, hue = 'gender')"
   ]
  },
  {
   "cell_type": "markdown",
   "metadata": {},
   "source": [
    "###### From the visualization above, we can clearly observe that churned users performed lesser number of operations compared to active users. Also male users display higher churn rate than female users."
   ]
  },
  {
   "cell_type": "markdown",
   "metadata": {},
   "source": [
    "###  \"Submit Downgrade\" is an indicator for Users Churn or not.¶"
   ]
  },
  {
   "cell_type": "code",
   "execution_count": 26,
   "metadata": {},
   "outputs": [
    {
     "data": {
      "text/plain": [
       "35"
      ]
     },
     "execution_count": 26,
     "metadata": {},
     "output_type": "execute_result"
    }
   ],
   "source": [
    "#EDA using downgrade events\n",
    "df.filter((col('page')=='Downgrade')&(col('churn')==1)).select('userId').distinct().count()"
   ]
  },
  {
   "cell_type": "markdown",
   "metadata": {},
   "source": [
    "##### Out of the 52 churned users 35 downgraded their service"
   ]
  },
  {
   "cell_type": "code",
   "execution_count": 27,
   "metadata": {},
   "outputs": [
    {
     "data": {
      "text/plain": [
       "9"
      ]
     },
     "execution_count": 27,
     "metadata": {},
     "output_type": "execute_result"
    }
   ],
   "source": [
    "df.filter((col('page')=='Submit Downgrade')&(col('churn')==1)).select('userId').distinct().count()"
   ]
  },
  {
   "cell_type": "markdown",
   "metadata": {},
   "source": [
    "##### Now, observing the submit downgrade feature, only  9 users submitted downgrade out of 52 churned users. This is an indicator that active users submits service downgrade than churned users."
   ]
  },
  {
   "cell_type": "code",
   "execution_count": 28,
   "metadata": {},
   "outputs": [
    {
     "data": {
      "text/plain": [
       "40"
      ]
     },
     "execution_count": 28,
     "metadata": {},
     "output_type": "execute_result"
    }
   ],
   "source": [
    "df.filter((col('page')=='Submit Downgrade')&(col('churn')==0)).select('userId').distinct().count()"
   ]
  },
  {
   "cell_type": "markdown",
   "metadata": {},
   "source": [
    "# Feature Engineering\n",
    "Once you've familiarized yourself with the data, build out the features you find promising to train your model on. To work with the full dataset, you can follow the following steps.\n",
    "- Write a script to extract the necessary features from the smaller subset of data\n",
    "- Ensure that your script is scalable, using the best practices discussed in Lesson 3\n",
    "- Try your script on the full data set, debugging your script if necessary\n",
    "\n",
    "If you are working in the classroom workspace, you can just extract features based on the small subset of data contained here. Be sure to transfer over this work to the larger dataset when you work on your Spark cluster."
   ]
  },
  {
   "cell_type": "code",
   "execution_count": 29,
   "metadata": {},
   "outputs": [
    {
     "name": "stdout",
     "output_type": "stream",
     "text": [
      "+------+-----+\n",
      "|userId|churn|\n",
      "+------+-----+\n",
      "|100010|    0|\n",
      "|200002|    0|\n",
      "|   125|    1|\n",
      "|    51|    1|\n",
      "|   124|    0|\n",
      "|     7|    0|\n",
      "|    54|    1|\n",
      "|    15|    0|\n",
      "|   155|    0|\n",
      "|   132|    0|\n",
      "|   154|    0|\n",
      "|100014|    1|\n",
      "|   101|    1|\n",
      "|    11|    0|\n",
      "|   138|    0|\n",
      "|300017|    0|\n",
      "|    29|    1|\n",
      "|    69|    0|\n",
      "|100021|    1|\n",
      "|    42|    0|\n",
      "+------+-----+\n",
      "only showing top 20 rows\n",
      "\n"
     ]
    }
   ],
   "source": [
    "# Add target to find active(0) vs churned users(1) \n",
    "target = df.groupBy(\"userId\").max(\"churn\").withColumnRenamed(\"max(churn)\", \"churn\").select([\"userId\", \"churn\"])\n",
    "\n",
    "target.show()"
   ]
  },
  {
   "cell_type": "code",
   "execution_count": 30,
   "metadata": {},
   "outputs": [
    {
     "name": "stdout",
     "output_type": "stream",
     "text": [
      "+------+-----+------------+\n",
      "|userId|churn|artist_count|\n",
      "+------+-----+------------+\n",
      "|100010|    0|         252|\n",
      "|200002|    0|         339|\n",
      "|   125|    1|           8|\n",
      "|   124|    0|        2232|\n",
      "|    51|    1|        1385|\n",
      "|     7|    0|         142|\n",
      "|    15|    0|        1302|\n",
      "|    54|    1|        1744|\n",
      "|   155|    0|         643|\n",
      "|100014|    1|         233|\n",
      "|   132|    0|        1299|\n",
      "|   154|    0|          78|\n",
      "|   101|    1|        1241|\n",
      "|    11|    0|         534|\n",
      "|   138|    0|        1332|\n",
      "|300017|    0|        2070|\n",
      "|100021|    1|         207|\n",
      "|    29|    1|        1804|\n",
      "|    69|    0|         865|\n",
      "|   112|    0|         195|\n",
      "+------+-----+------------+\n",
      "only showing top 20 rows\n",
      "\n"
     ]
    }
   ],
   "source": [
    "# Feature one: Add count artist feature to obtain the number of artist each user listened to\n",
    "df_artist = df.groupby(\"userId\") \\\n",
    "                                    .agg(countDistinct(\"artist\")) \\\n",
    "                                    .withColumnRenamed(\"count(artist)\", \"artist_count\")\n",
    "feat_one = target.join(df_artist,[\"userId\"])\n",
    "feat_one.show()"
   ]
  },
  {
   "cell_type": "code",
   "execution_count": 31,
   "metadata": {},
   "outputs": [
    {
     "name": "stdout",
     "output_type": "stream",
     "text": [
      "+------+-----+------------+-----------+\n",
      "|userId|churn|artist_count|visit_count|\n",
      "+------+-----+------------+-----------+\n",
      "|100010|    0|         252|        381|\n",
      "|200002|    0|         339|        474|\n",
      "|   125|    1|           8|         11|\n",
      "|   124|    0|        2232|       4825|\n",
      "|    51|    1|        1385|       2464|\n",
      "|     7|    0|         142|        201|\n",
      "|    15|    0|        1302|       2278|\n",
      "|    54|    1|        1744|       3437|\n",
      "|   155|    0|         643|       1002|\n",
      "|100014|    1|         233|        310|\n",
      "|   132|    0|        1299|       2304|\n",
      "|   154|    0|          78|        118|\n",
      "|   101|    1|        1241|       2149|\n",
      "|    11|    0|         534|        848|\n",
      "|   138|    0|        1332|       2469|\n",
      "|300017|    0|        2070|       4428|\n",
      "|100021|    1|         207|        319|\n",
      "|    29|    1|        1804|       3603|\n",
      "|    69|    0|         865|       1342|\n",
      "|   112|    0|         195|        292|\n",
      "+------+-----+------------+-----------+\n",
      "only showing top 20 rows\n",
      "\n"
     ]
    }
   ],
   "source": [
    "# Feature two: Count the number of visit made by each user to the app using the total number of times a userId is there in df\n",
    "df_visits = df.groupby(\"userId\") \\\n",
    "                                      .count() \\\n",
    "                                      .withColumnRenamed(\"count\", \"visit_count\")\n",
    "feat_two = feat_one.join(df_visits,[\"userId\"])\n",
    "feat_two.show()"
   ]
  },
  {
   "cell_type": "code",
   "execution_count": 32,
   "metadata": {},
   "outputs": [
    {
     "name": "stdout",
     "output_type": "stream",
     "text": [
      "+------+-----+------------+-----------+----------+\n",
      "|userId|churn|artist_count|visit_count|song_count|\n",
      "+------+-----+------------+-----------+----------+\n",
      "|100010|    0|         252|        381|       269|\n",
      "|200002|    0|         339|        474|       378|\n",
      "|   125|    1|           8|         11|         8|\n",
      "|   124|    0|        2232|       4825|      3339|\n",
      "|    51|    1|        1385|       2464|      1854|\n",
      "|     7|    0|         142|        201|       148|\n",
      "|    15|    0|        1302|       2278|      1707|\n",
      "|    54|    1|        1744|       3437|      2414|\n",
      "|   155|    0|         643|       1002|       759|\n",
      "|100014|    1|         233|        310|       248|\n",
      "|   132|    0|        1299|       2304|      1718|\n",
      "|   154|    0|          78|        118|        83|\n",
      "|   101|    1|        1241|       2149|      1608|\n",
      "|    11|    0|         534|        848|       616|\n",
      "|   138|    0|        1332|       2469|      1791|\n",
      "|300017|    0|        2070|       4428|      3013|\n",
      "|100021|    1|         207|        319|       226|\n",
      "|    29|    1|        1804|       3603|      2562|\n",
      "|    69|    0|         865|       1342|      1036|\n",
      "|   112|    0|         195|        292|       211|\n",
      "+------+-----+------------+-----------+----------+\n",
      "only showing top 20 rows\n",
      "\n"
     ]
    }
   ],
   "source": [
    "# Feature three: Calculate the number of unique songs a user listens to \n",
    "df_count_songs = df.groupby(\"userId\")\\\n",
    "                                    .agg(countDistinct(\"song\"))\\\n",
    "                                    .withColumnRenamed(\"count(song)\", \"song_count\")\n",
    "feat_three = feat_two.join(df_count_songs,[\"userId\"])\n",
    "feat_three.show()"
   ]
  },
  {
   "cell_type": "code",
   "execution_count": 33,
   "metadata": {},
   "outputs": [
    {
     "name": "stdout",
     "output_type": "stream",
     "text": [
      "+------+-----+------------+-----------+----------+------------------+\n",
      "|userId|churn|artist_count|visit_count|song_count|      total_length|\n",
      "+------+-----+------------+-----------+----------+------------------+\n",
      "|100010|    0|         252|        381|       269| 66940.89735000003|\n",
      "|200002|    0|         339|        474|       378| 94008.87593999993|\n",
      "|   125|    1|           8|         11|         8|2089.1131000000005|\n",
      "|   124|    0|        2232|       4825|      3339|1012312.0927899999|\n",
      "|    51|    1|        1385|       2464|      1854| 523275.8428000004|\n",
      "|     7|    0|         142|        201|       148| 38034.08710000002|\n",
      "|    15|    0|        1302|       2278|      1707|477307.60581000015|\n",
      "|    54|    1|        1744|       3437|      2414| 711344.9195400011|\n",
      "|   155|    0|         643|       1002|       759|       198779.2919|\n",
      "|100014|    1|         233|        310|       248| 67703.47208000004|\n",
      "|   132|    0|        1299|       2304|      1718| 483118.9038399997|\n",
      "|   154|    0|          78|        118|        83|20660.023910000007|\n",
      "|   101|    1|        1241|       2149|      1608| 447464.0146699989|\n",
      "|    11|    0|         534|        848|       616|159669.96303999983|\n",
      "|   138|    0|        1332|       2469|      1791| 512449.8827599989|\n",
      "|300017|    0|        2070|       4428|      3013| 897406.9802100015|\n",
      "|100021|    1|         207|        319|       226| 57633.17563999999|\n",
      "|    29|    1|        1804|       3603|      2562| 754517.5625700009|\n",
      "|    69|    0|         865|       1342|      1036| 286064.0256399999|\n",
      "|   112|    0|         195|        292|       211| 53062.74659000002|\n",
      "+------+-----+------------+-----------+----------+------------------+\n",
      "only showing top 20 rows\n",
      "\n"
     ]
    }
   ],
   "source": [
    "#Feature four: Calculate total length associated with each user\n",
    "df_length = df.groupby(\"userId\")\\\n",
    "                            .agg({\"length\" : \"sum\"})\\\n",
    "                               .withColumnRenamed(\"sum(length)\",\"total_length\")\n",
    "feat_four = feat_three.join(df_length,[\"userId\"])\n",
    "feat_four.show()"
   ]
  },
  {
   "cell_type": "code",
   "execution_count": 34,
   "metadata": {},
   "outputs": [
    {
     "name": "stdout",
     "output_type": "stream",
     "text": [
      "+------+-----+------------+-----------+----------+------------------+---------------+-----------+\n",
      "|userId|churn|artist_count|visit_count|song_count|      total_length|registered_days|last_recent|\n",
      "+------+-----+------------+-----------+----------+------------------+---------------+-----------+\n",
      "|100010|    0|         252|        381|       269| 66940.89735000003|             44|         12|\n",
      "|200002|    0|         339|        474|       378| 94008.87593999993|             45|         18|\n",
      "|   125|    1|           8|         11|         8|2089.1131000000005|              0|         52|\n",
      "|   124|    0|        2232|       4825|      3339|1012312.0927899999|             60|          3|\n",
      "|    51|    1|        1385|       2464|      1854| 523275.8428000004|             16|         47|\n",
      "|     7|    0|         142|        201|       148| 38034.08710000002|             51|         10|\n",
      "|    15|    0|        1302|       2278|      1707|477307.60581000015|             55|          8|\n",
      "|    54|    1|        1744|       3437|      2414| 711344.9195400011|             42|         21|\n",
      "|   155|    0|         643|       1002|       759|       198779.2919|             26|          5|\n",
      "|100014|    1|         233|        310|       248| 67703.47208000004|             41|         13|\n",
      "|   132|    0|        1299|       2304|      1718| 483118.9038399997|             50|         12|\n",
      "|   154|    0|          78|        118|        83|20660.023910000007|             25|          6|\n",
      "|   101|    1|        1241|       2149|      1608| 447464.0146699989|             15|         48|\n",
      "|    11|    0|         534|        848|       616|159669.96303999983|             53|          6|\n",
      "|   138|    0|        1332|       2469|      1791| 512449.8827599989|             56|          3|\n",
      "|300017|    0|        2070|       4428|      3013| 897406.9802100015|             59|          4|\n",
      "|100021|    1|         207|        319|       226| 57633.17563999999|             45|          8|\n",
      "|    29|    1|        1804|       3603|      2562| 754517.5625700009|             44|         19|\n",
      "|    69|    0|         865|       1342|      1036| 286064.0256399999|             51|         10|\n",
      "|   112|    0|         195|        292|       211| 53062.74659000002|             57|          3|\n",
      "+------+-----+------------+-----------+----------+------------------+---------------+-----------+\n",
      "only showing top 20 rows\n",
      "\n"
     ]
    }
   ],
   "source": [
    "#Feature five: Obtain time related features\n",
    "\n",
    "#Sub-feature 1. Registered days i.e time between day of registration and now\n",
    "user_time=df.groupBy('userId','registration_time').agg(min('time'),max('time'))\n",
    "user_time=user_time.select('userId','registration_time',\n",
    "                          to_timestamp('min(time)', 'yyyy-MM-dd HH:mm:ss').alias('first_time'),\n",
    "                          to_timestamp('max(time)', 'yyyy-MM-dd HH:mm:ss').alias('last_time'))\n",
    "\n",
    "#Sub-Feature 2.Days between last day for a user and last day in df\n",
    "user_time=user_time.withColumn('registered_days',datediff('last_time','first_time')).withColumn(\n",
    "    'last_recent',datediff(to_date(lit(\"2018-12-03\")),'last_time')) #(2018-12-03) is the last date in the dataframe\n",
    "user_time=user_time.select('userId','registered_days','last_recent')\n",
    "\n",
    "feat_five=feat_four.join(user_time, ['userId'])\n",
    "feat_five.show()"
   ]
  },
  {
   "cell_type": "code",
   "execution_count": 35,
   "metadata": {},
   "outputs": [
    {
     "name": "stdout",
     "output_type": "stream",
     "text": [
      "+------+-----+------------+-----------+----------+------------------+---------------+-----------+------+\n",
      "|userId|churn|artist_count|visit_count|song_count|      total_length|registered_days|last_recent|gender|\n",
      "+------+-----+------------+-----------+----------+------------------+---------------+-----------+------+\n",
      "|100010|    0|         252|        381|       269| 66940.89735000003|             44|         12|     1|\n",
      "|200002|    0|         339|        474|       378| 94008.87593999993|             45|         18|     0|\n",
      "|   125|    1|           8|         11|         8|2089.1131000000005|              0|         52|     0|\n",
      "|   124|    0|        2232|       4825|      3339|1012312.0927899999|             60|          3|     1|\n",
      "|    51|    1|        1385|       2464|      1854| 523275.8428000004|             16|         47|     0|\n",
      "|     7|    0|         142|        201|       148| 38034.08710000002|             51|         10|     0|\n",
      "|    15|    0|        1302|       2278|      1707|477307.60581000015|             55|          8|     0|\n",
      "|    54|    1|        1744|       3437|      2414| 711344.9195400011|             42|         21|     1|\n",
      "|   155|    0|         643|       1002|       759|       198779.2919|             26|          5|     1|\n",
      "|100014|    1|         233|        310|       248| 67703.47208000004|             41|         13|     0|\n",
      "|   132|    0|        1299|       2304|      1718| 483118.9038399997|             50|         12|     1|\n",
      "|   154|    0|          78|        118|        83|20660.023910000007|             25|          6|     1|\n",
      "|   101|    1|        1241|       2149|      1608| 447464.0146699989|             15|         48|     0|\n",
      "|    11|    0|         534|        848|       616|159669.96303999983|             53|          6|     1|\n",
      "|   138|    0|        1332|       2469|      1791| 512449.8827599989|             56|          3|     0|\n",
      "|300017|    0|        2070|       4428|      3013| 897406.9802100015|             59|          4|     1|\n",
      "|100021|    1|         207|        319|       226| 57633.17563999999|             45|          8|     0|\n",
      "|    29|    1|        1804|       3603|      2562| 754517.5625700009|             44|         19|     0|\n",
      "|    69|    0|         865|       1342|      1036| 286064.0256399999|             51|         10|     1|\n",
      "|   112|    0|         195|        292|       211| 53062.74659000002|             57|          3|     0|\n",
      "+------+-----+------------+-----------+----------+------------------+---------------+-----------+------+\n",
      "only showing top 20 rows\n",
      "\n"
     ]
    }
   ],
   "source": [
    "# Feature six: Identify gender with 0 for Male and 1 for Female\n",
    "flag_gender = udf(lambda x: 1 if x == \"F\" else 0, IntegerType())\n",
    "user_gender = df.withColumn(\"gender\", flag_gender(\"gender\"))\n",
    "user_gender = user_gender.groupby('userId').agg({\"gender\": \"max\"}).withColumnRenamed(\"max(gender)\", \"gender\")\n",
    "feat_six=feat_five.join(user_gender, ['userId'])\n",
    "feat_six.show()"
   ]
  },
  {
   "cell_type": "code",
   "execution_count": 36,
   "metadata": {},
   "outputs": [
    {
     "name": "stdout",
     "output_type": "stream",
     "text": [
      "+------+-----+------------+-----------+----------+------------------+---------------+-----------+------+-----+\n",
      "|userId|churn|artist_count|visit_count|song_count|      total_length|registered_days|last_recent|gender|level|\n",
      "+------+-----+------------+-----------+----------+------------------+---------------+-----------+------+-----+\n",
      "|100010|    0|         252|        381|       269| 66940.89735000003|             44|         12|     1|    0|\n",
      "|200002|    0|         339|        474|       378| 94008.87593999993|             45|         18|     0|    1|\n",
      "|   125|    1|           8|         11|         8|2089.1131000000005|              0|         52|     0|    0|\n",
      "|   124|    0|        2232|       4825|      3339|1012312.0927899999|             60|          3|     1|    1|\n",
      "|    51|    1|        1385|       2464|      1854| 523275.8428000004|             16|         47|     0|    1|\n",
      "|     7|    0|         142|        201|       148| 38034.08710000002|             51|         10|     0|    0|\n",
      "|    15|    0|        1302|       2278|      1707|477307.60581000015|             55|          8|     0|    1|\n",
      "|    54|    1|        1744|       3437|      2414| 711344.9195400011|             42|         21|     1|    1|\n",
      "|   155|    0|         643|       1002|       759|       198779.2919|             26|          5|     1|    1|\n",
      "|100014|    1|         233|        310|       248| 67703.47208000004|             41|         13|     0|    1|\n",
      "|   132|    0|        1299|       2304|      1718| 483118.9038399997|             50|         12|     1|    1|\n",
      "|   154|    0|          78|        118|        83|20660.023910000007|             25|          6|     1|    0|\n",
      "|   101|    1|        1241|       2149|      1608| 447464.0146699989|             15|         48|     0|    1|\n",
      "|    11|    0|         534|        848|       616|159669.96303999983|             53|          6|     1|    1|\n",
      "|   138|    0|        1332|       2469|      1791| 512449.8827599989|             56|          3|     0|    1|\n",
      "|300017|    0|        2070|       4428|      3013| 897406.9802100015|             59|          4|     1|    1|\n",
      "|100021|    1|         207|        319|       226| 57633.17563999999|             45|          8|     0|    0|\n",
      "|    29|    1|        1804|       3603|      2562| 754517.5625700009|             44|         19|     0|    1|\n",
      "|    69|    0|         865|       1342|      1036| 286064.0256399999|             51|         10|     1|    1|\n",
      "|   112|    0|         195|        292|       211| 53062.74659000002|             57|          3|     0|    0|\n",
      "+------+-----+------------+-----------+----------+------------------+---------------+-----------+------+-----+\n",
      "only showing top 20 rows\n",
      "\n"
     ]
    }
   ],
   "source": [
    "# Feature seven: Identify level of users with 0 for Free and 1 for paid\n",
    "flag_level = udf(lambda x: 1 if x == \"paid\" else 0, IntegerType())\n",
    "user_level = df.withColumn(\"level\", flag_level(\"level\"))\n",
    "user_level = user_level.groupby('userId').agg({\"level\": \"max\"}).withColumnRenamed(\"max(level)\", \"level\")\n",
    "feat_seven=feat_six.join(user_level, ['userId'])\n",
    "feat_seven.show()"
   ]
  },
  {
   "cell_type": "code",
   "execution_count": 37,
   "metadata": {},
   "outputs": [
    {
     "name": "stdout",
     "output_type": "stream",
     "text": [
      "+------+-----+------------+-----------+----------+------------------+---------------+-----------+------+-----+------------------+\n",
      "|userId|churn|artist_count|visit_count|song_count|      total_length|registered_days|last_recent|gender|level|   avg_daily_items|\n",
      "+------+-----+------------+-----------+----------+------------------+---------------+-----------+------+-----+------------------+\n",
      "|100010|    0|         252|        381|       269| 66940.89735000003|             44|         12|     1|    0| 54.42857142857143|\n",
      "|200002|    0|         339|        474|       378| 94008.87593999993|             45|         18|     0|    1|            84.375|\n",
      "|   125|    1|           8|         11|         8|2089.1131000000005|              0|         52|     0|    0|              10.0|\n",
      "|   124|    0|        2232|       4825|      3339|1012312.0927899999|             60|          3|     1|    1|198.80555555555554|\n",
      "|    51|    1|        1385|       2464|      1854| 523275.8428000004|             16|         47|     0|    1| 272.2857142857143|\n",
      "|     7|    0|         142|        201|       148| 38034.08710000002|             51|         10|     0|    0|            25.125|\n",
      "|    15|    0|        1302|       2278|      1707|477307.60581000015|             55|          8|     0|    1|156.55555555555554|\n",
      "|    54|    1|        1744|       3437|      2414| 711344.9195400011|             42|         21|     1|    1|142.41935483870967|\n",
      "|   155|    0|         643|       1002|       759|       198779.2919|             26|          5|     1|    1|           144.375|\n",
      "|100014|    1|         233|        310|       248| 67703.47208000004|             41|         13|     0|    1|51.833333333333336|\n",
      "|   132|    0|        1299|       2304|      1718| 483118.9038399997|             50|         12|     1|    1|155.38095238095238|\n",
      "|   154|    0|          78|        118|        83|20660.023910000007|             25|          6|     1|    0|41.333333333333336|\n",
      "|   101|    1|        1241|       2149|      1608| 447464.0146699989|             15|         48|     0|    1|            279.75|\n",
      "|    11|    0|         534|        848|       616|159669.96303999983|             53|          6|     1|    1|           54.3125|\n",
      "|   138|    0|        1332|       2469|      1791| 512449.8827599989|             56|          3|     0|    1|187.26315789473685|\n",
      "|300017|    0|        2070|       4428|      3013| 897406.9802100015|             59|          4|     1|    1| 86.71428571428571|\n",
      "|100021|    1|         207|        319|       226| 57633.17563999999|             45|          8|     0|    0|              66.4|\n",
      "|    29|    1|        1804|       3603|      2562| 754517.5625700009|             44|         19|     0|    1|169.92857142857142|\n",
      "|    69|    0|         865|       1342|      1036| 286064.0256399999|             51|         10|     1|    1|129.83333333333334|\n",
      "|   112|    0|         195|        292|       211| 53062.74659000002|             57|          3|     0|    0|            33.125|\n",
      "+------+-----+------------+-----------+----------+------------------+---------------+-----------+------+-----+------------------+\n",
      "only showing top 20 rows\n",
      "\n"
     ]
    }
   ],
   "source": [
    "#Feature eight: Calculate on avg. the number of items a user listens to on a daily basis\n",
    "daily_item_df = df.groupby('userId','date').agg(max('itemInSession')).\\\n",
    "                    groupBy('userId').avg('max(itemInSession)').\\\n",
    "                    withColumnRenamed('avg(max(itemInSession))', 'avg_daily_items')\n",
    "feat_eight = feat_seven.join(daily_item_df,['userId'])\n",
    "feat_eight.show()"
   ]
  },
  {
   "cell_type": "code",
   "execution_count": 38,
   "metadata": {},
   "outputs": [
    {
     "name": "stdout",
     "output_type": "stream",
     "text": [
      "+------+-----+------------+-----------+----------+------------------+---------------+-----------+------+-----+------------------+-------------------------+------------------+\n",
      "|userId|churn|artist_count|visit_count|song_count|      total_length|registered_days|last_recent|gender|level|   avg_daily_items|avg_session_duration_mins| avg_gap_time_days|\n",
      "+------+-----+------------+-----------+----------+------------------+---------------+-----------+------+-----+------------------+-------------------------+------------------+\n",
      "|100010|    0|         252|        381|       269| 66940.89735000003|             44|         12|     1|    0| 54.42857142857143|       154.48333333333332| 7.333333333333333|\n",
      "|200002|    0|         339|        474|       378| 94008.87593999993|             45|         18|     0|    1|            84.375|                    266.4|               9.0|\n",
      "|   125|    1|           8|         11|         8|2089.1131000000005|              0|         52|     0|    0|              10.0|       29.566666666666666|               0.0|\n",
      "|   124|    0|        2232|       4825|      3339|1012312.0927899999|             60|          3|     1|    1|198.80555555555554|        578.9942528735631| 2.142857142857143|\n",
      "|    51|    1|        1385|       2464|      1854| 523275.8428000004|             16|         47|     0|    1| 272.2857142857143|        872.3566666666668|1.6666666666666667|\n",
      "|     7|    0|         142|        201|       148| 38034.08710000002|             51|         10|     0|    0|            25.125|        87.64047619047619|               8.5|\n",
      "|    15|    0|        1302|       2278|      1707|477307.60581000015|             55|          8|     0|    1|156.55555555555554|        528.2833333333333| 3.857142857142857|\n",
      "|    54|    1|        1744|       3437|      2414| 711344.9195400011|             42|         21|     1|    1|142.41935483870967|       322.28963963963963|1.1666666666666667|\n",
      "|   155|    0|         643|       1002|       759|       198779.2919|             26|          5|     1|    1|           144.375|        548.5722222222222|               5.0|\n",
      "|100014|    1|         233|        310|       248| 67703.47208000004|             41|         13|     0|    1|51.833333333333336|        184.8138888888889|               8.2|\n",
      "|   132|    0|        1299|       2304|      1718| 483118.9038399997|             50|         12|     1|    1|155.38095238095238|        498.9510416666667|3.3333333333333335|\n",
      "|   154|    0|          78|        118|        83|20660.023910000007|             25|          6|     1|    0|41.333333333333336|       110.68333333333332|              12.5|\n",
      "|   101|    1|        1241|       2149|      1608| 447464.0146699989|             15|         48|     0|    1|            279.75|                   817.58|1.6666666666666667|\n",
      "|    11|    0|         534|        848|       616|159669.96303999983|             53|          6|     1|    1|           54.3125|       161.37708333333333| 3.533333333333333|\n",
      "|   138|    0|        1332|       2469|      1791| 512449.8827599989|             56|          3|     0|    1|187.26315789473685|        564.2266666666667|3.9285714285714284|\n",
      "|300017|    0|        2070|       4428|      3013| 897406.9802100015|             59|          4|     1|    1| 86.71428571428571|       233.32407407407408|0.9516129032258065|\n",
      "|100021|    1|         207|        319|       226| 57633.17563999999|             45|          8|     0|    0|              66.4|       215.22666666666663|             11.25|\n",
      "|    29|    1|        1804|       3603|      2562| 754517.5625700009|             44|         19|     0|    1|169.92857142857142|       365.75686274509803|1.3333333333333333|\n",
      "|    69|    0|         865|       1342|      1036| 286064.0256399999|             51|         10|     1|    1|129.83333333333334|        526.6851851851852|             6.375|\n",
      "|   112|    0|         195|        292|       211| 53062.74659000002|             57|          3|     0|    0|            33.125|        84.45166666666667| 6.333333333333333|\n",
      "+------+-----+------------+-----------+----------+------------------+---------------+-----------+------+-----+------------------+-------------------------+------------------+\n",
      "only showing top 20 rows\n",
      "\n"
     ]
    }
   ],
   "source": [
    "# feature nine: Add two session related features plus number of unique unique sessions of each user\n",
    "\n",
    "# calculate number of sessions of each user\n",
    "user_session = df.groupby(\"userId\").agg(countDistinct('sessionId'))\n",
    "\n",
    "\n",
    "# Sub-feature 1 - calculate time of each session\n",
    "user_session_time=df.groupBy('userId','sessionId').agg(min('time'),max('time')).orderBy('userId','sessionId')\n",
    "user_session_time=user_session_time.select('userId','sessionId',\n",
    "                          to_timestamp('min(time)', 'yyyy-MM-dd HH:mm:ss').alias('first_time'),\n",
    "                          to_timestamp('max(time)', 'yyyy-MM-dd HH:mm:ss').alias('last_time'))\n",
    "\n",
    "user_session_time=user_session_time.withColumn('session_duration_mins',(col(\"last_time\").cast(\"long\") - col(\"first_time\")\\\n",
    "                                                                            .cast(\"long\"))/60)\n",
    "\n",
    "# Sub-feature 2 - calculate gap time of each pair of close sessions \n",
    "\n",
    "user_session_time=user_session_time.withColumn('next_session_start_time',lead(user_session_time['first_time'])\n",
    "                                 .over(Window.partitionBy(\"userId\").orderBy('sessionId')))    \n",
    "\n",
    "user_session_time=user_session_time.withColumn('gap_time',datediff('next_session_start_time','first_time'))\n",
    "\n",
    "# aggregate these two features; session duration of users in minutes and average gap time in days of users\n",
    "user_session_time=user_session_time.groupBy('userId').agg(mean('session_duration_mins').alias('avg_session_duration_mins'),\n",
    "                                           mean('gap_time').alias('avg_gap_time_days')).fillna(0)\n",
    "\n",
    "\n",
    "#merge with user dataframe\n",
    "df_session=user_session_time.join(user_session,[\"userId\"])\n",
    "feat_nine = feat_eight.join(user_session_time,[\"userId\"])\n",
    "feat_nine.show()"
   ]
  },
  {
   "cell_type": "code",
   "execution_count": 39,
   "metadata": {},
   "outputs": [
    {
     "name": "stdout",
     "output_type": "stream",
     "text": [
      "+------+-----+------------+-----------+----------+------------------+---------------+-----------+------+-----+------------------+-------------------------+------------------+--------------------+--------------------+--------------------+--------------------+--------------------+--------------------+--------------------+--------------------+------------------+--------------------+--------------------+--------------------+--------------------+--------------------+--------------------+--------------------+--------------------+-----+\n",
      "|userId|churn|artist_count|visit_count|song_count|      total_length|registered_days|last_recent|gender|level|   avg_daily_items|avg_session_duration_mins| avg_gap_time_days|               About|          Add Friend|     Add to Playlist|           Downgrade|               Error|                Help|                Home|              Logout|          NextSong|         Roll Advert|       Save Settings|            Settings|    Submit Downgrade|      Submit Upgrade|         Thumbs Down|           Thumbs Up|             Upgrade|count|\n",
      "+------+-----+------------+-----------+----------+------------------+---------------+-----------+------+-----+------------------+-------------------------+------------------+--------------------+--------------------+--------------------+--------------------+--------------------+--------------------+--------------------+--------------------+------------------+--------------------+--------------------+--------------------+--------------------+--------------------+--------------------+--------------------+--------------------+-----+\n",
      "|100010|    0|         252|        381|       269| 66940.89735000003|             44|         12|     1|    0| 54.42857142857143|       154.48333333333332| 7.333333333333333|0.002624671916010...|0.010498687664041995| 0.01837270341207349|                 0.0|                 0.0|0.005249343832020997|0.028871391076115485|0.013123359580052493|0.7217847769028871| 0.13648293963254593|                 0.0|                 0.0|                 0.0|                 0.0|0.013123359580052493| 0.04461942257217848|0.005249343832020997|  381|\n",
      "|200002|    0|         339|        474|       378| 94008.87593999993|             45|         18|     0|    1|            84.375|                    266.4|               9.0|0.006329113924050633|0.008438818565400843|0.016877637130801686|0.010548523206751054|                 0.0|0.004219409282700422| 0.04219409282700422|0.010548523206751054|0.8164556962025317|0.014767932489451477|                 0.0|0.006329113924050633|                 0.0|0.002109704641350211|0.012658227848101266| 0.04430379746835443|0.004219409282700422|  474|\n",
      "|   125|    1|           8|         11|         8|2089.1131000000005|              0|         52|     0|    0|              10.0|       29.566666666666666|               0.0|                 0.0|                 0.0|                 0.0|                 0.0|                 0.0|                 0.0|                 0.0|                 0.0|0.8888888888888888|  0.1111111111111111|                 0.0|                 0.0|                 0.0|                 0.0|                 0.0|                 0.0|                 0.0|    9|\n",
      "|   124|    0|        2232|       4825|      3339|1012312.0927899999|             60|          3|     1|    1|198.80555555555554|        578.9942528735631| 2.142857142857143|0.001450777202072539| 0.01533678756476684|  0.0244559585492228| 0.00849740932642487|0.001243523316062176|0.004766839378238342|0.036476683937823835|  0.0122279792746114|0.8453886010362694|8.290155440414508E-4|0.001243523316062176|0.004145077720207254|                 0.0|                 0.0| 0.00849740932642487| 0.03544041450777202|                 0.0| 4825|\n",
      "|    51|    1|        1385|       2464|      1854| 523275.8428000004|             16|         47|     0|    1| 272.2857142857143|        872.3566666666668|1.6666666666666667|8.123476848090983E-4|0.011372867587327376|0.021121039805036556| 0.00934199837530463|4.061738424045491...| 0.00487408610885459|0.030463038180341188| 0.00974817221770918|0.8574329813160032|                 0.0|4.061738424045491...| 0.00487408610885459|                 0.0|                 0.0|0.008529650690495532| 0.04061738424045491|                 0.0| 2462|\n",
      "|     7|    0|         142|        201|       148| 38034.08710000002|             51|         10|     0|    0|            25.125|        87.64047619047619|               8.5|                 0.0|0.004975124378109453|0.024875621890547265|                 0.0|0.004975124378109453|0.004975124378109453| 0.04975124378109453|0.014925373134328358| 0.746268656716418| 0.07960199004975124|0.004975124378109453|0.014925373134328358|                 0.0|                 0.0|0.004975124378109453| 0.03482587064676617|0.009950248756218905|  201|\n",
      "|    15|    0|        1302|       2278|      1707|477307.60581000015|             55|          8|     0|    1|156.55555555555554|        528.2833333333333| 3.857142857142857| 8.77963125548727E-4|0.013608428446005268|0.025899912203687446|0.012291483757682178| 8.77963125548727E-4|0.003511852502194908|0.040825285338015806|0.011852502194907815|0.8402107111501317|4.389815627743635E-4| 8.77963125548727E-4|0.007023705004389816|                 0.0|                 0.0|0.006145741878841089| 0.03555750658472344|                 0.0| 2278|\n",
      "|    54|    1|        1744|       3437|      2414| 711344.9195400011|             42|         21|     1|    1|142.41935483870967|       322.28963963963963|1.1666666666666667|0.001455604075691412| 0.00960698689956332| 0.02096069868995633|0.011353711790393014|2.911208151382824E-4|0.004949053857350801| 0.03755458515283843|0.010480349344978166|0.8270742358078602|0.013682678311499273|8.733624454148472E-4|0.004949053857350801|2.911208151382824E-4|2.911208151382824E-4|0.008442503639010189| 0.04745269286754003|2.911208151382824E-4| 3435|\n",
      "|   155|    0|         643|       1002|       759|       198779.2919|             26|          5|     1|    1|           144.375|        548.5722222222222|               5.0|0.001996007984031936|0.010978043912175649|0.023952095808383235|0.011976047904191617|0.002994011976047...|0.008982035928143712|0.029940119760479042|0.013972055888223553|0.8183632734530938|0.007984031936127744|                 0.0| 0.00499001996007984|                 0.0| 9.98003992015968E-4|0.002994011976047...| 0.05788423153692615|0.001996007984031936| 1002|\n",
      "|100014|    1|         233|        310|       248| 67703.47208000004|             41|         13|     0|    1|51.833333333333336|        184.8138888888889|               8.2|                 0.0| 0.01948051948051948|0.022727272727272728| 0.00974025974025974|                 0.0|0.006493506493506494|0.022727272727272728| 0.00974025974025974|0.8344155844155844|0.006493506493506494|                 0.0|0.003246753246753247|                 0.0|                 0.0| 0.00974025974025974| 0.05519480519480519|                 0.0|  308|\n",
      "|   132|    0|        1299|       2304|      1718| 483118.9038399997|             50|         12|     1|    1|155.38095238095238|        498.9510416666667|3.3333333333333335|0.001736111111111111|0.017795138888888888|0.016493055555555556|0.008246527777777778|0.001302083333333...|0.006944444444444444| 0.03602430555555555|0.014756944444444444|0.8368055555555556|8.680555555555555E-4|0.001736111111111111|0.007378472222222222|                 0.0|4.340277777777777...|0.007378472222222222|0.041666666666666664|4.340277777777777...| 2304|\n",
      "|   154|    0|          78|        118|        83|20660.023910000007|             25|          6|     1|    0|41.333333333333336|       110.68333333333332|              12.5|                 0.0|0.025423728813559324| 0.00847457627118644|                 0.0|                 0.0| 0.00847457627118644| 0.05084745762711865| 0.01694915254237288| 0.711864406779661|  0.0847457627118644|                 0.0|                 0.0|                 0.0|                 0.0|                 0.0| 0.09322033898305085|                 0.0|  118|\n",
      "|   101|    1|        1241|       2149|      1608| 447464.0146699989|             15|         48|     0|    1|            279.75|                   817.58|1.6666666666666667|9.315323707498836E-4| 0.01350721937587331| 0.02841173730787145|0.010246856078248719|0.001397298556124...|0.005589194224499...|0.034466697717745694|0.011178388448998603|0.8369818351187703|0.003726129482999...|9.315323707498836E-4|0.004191895668374476|                 0.0|4.657661853749418E-4|0.007452258965999069|0.040055891942244994|4.657661853749418E-4| 2147|\n",
      "|    11|    0|         534|        848|       616|159669.96303999983|             53|          6|     1|    1|           54.3125|       161.37708333333333| 3.533333333333333|0.008254716981132075|0.007075471698113208| 0.02358490566037736| 0.00589622641509434|0.001179245283018...|0.003537735849056604| 0.04363207547169811| 0.01650943396226415|0.7629716981132075|0.045990566037735846|0.002358490566037...|0.007075471698113208|0.001179245283018...|0.002358490566037...| 0.01061320754716981| 0.04716981132075472| 0.01061320754716981|  848|\n",
      "|   138|    0|        1332|       2469|      1791| 512449.8827599989|             56|          3|     0|    1|187.26315789473685|        564.2266666666667|3.9285714285714284|0.003240178209801...| 0.01660591332523289| 0.02713649250708789| 0.00850546780072904|4.050222762251924E-4|0.005265289590927501| 0.02875658161198866|0.007290400972053463|0.8383961117861483| 0.00688537869582827|0.001620089104900...| 0.00688537869582827|                 0.0|4.050222762251924E-4|0.009720534629404616| 0.03847711624139328|4.050222762251924E-4| 2469|\n",
      "|300017|    0|        2070|       4428|      3013| 897406.9802100015|             59|          4|     1|    1| 86.71428571428571|       233.32407407407408|0.9516129032258065|6.775067750677507E-4|0.014227642276422764|0.025519421860885277|0.005645889792231256|0.001129177958446251|0.006097560975609756|0.034101174345076785|0.009259259259259259|0.8202348690153568|0.002484191508581...|6.775067750677507E-4|0.005194218608852755|                 0.0|                 0.0|0.006323396567299007| 0.06842818428184282|                 0.0| 4428|\n",
      "|100021|    1|         207|        319|       226| 57633.17563999999|             45|          8|     0|    0|              66.4|       215.22666666666663|             11.25|0.003154574132492...|0.022082018927444796|0.022082018927444796|                 0.0|0.006309148264984227|                 0.0|  0.0473186119873817|0.022082018927444796|0.7255520504731862|  0.0946372239747634|                 0.0|                 0.0|                 0.0|                 0.0|0.015772870662460567| 0.03470031545741325|0.006309148264984227|  317|\n",
      "|    29|    1|        1804|       3603|      2562| 754517.5625700009|             44|         19|     0|    1|169.92857142857142|       365.75686274509803|1.3333333333333333|5.554012774229381E-4|0.013051930019439044|0.024715356845320745|0.004998611496806442|                 0.0|0.007775617883921133| 0.03360177728408775|0.011385726187170231|0.8408775340183282|0.006109414051652319|0.001110802554845...|0.005276312135517912|                 0.0|2.777006387114690...|0.006109414051652319| 0.04276589836156623|0.001388503193557...| 3601|\n",
      "|    69|    0|         865|       1342|      1036| 286064.0256399999|             51|         10|     1|    1|129.83333333333334|        526.6851851851852|             6.375|0.002235469448584...| 0.00894187779433681| 0.02459016393442623|0.006706408345752...|0.002980625931445...|0.005216095380029807| 0.03651266766020864|0.007451564828614009|0.8383010432190761|0.002235469448584...|7.451564828614009E-4|0.002235469448584...|                 0.0|7.451564828614009E-4|0.006706408345752...| 0.05365126676602087|7.451564828614009E-4| 1342|\n",
      "|   112|    0|         195|        292|       211| 53062.74659000002|             57|          3|     0|    0|            33.125|        84.45166666666667| 6.333333333333333|0.003424657534246575|0.023972602739726026|0.023972602739726026|                 0.0|                 0.0|0.003424657534246575|  0.0547945205479452|0.010273972602739725|0.7363013698630136| 0.07191780821917808|0.010273972602739725|  0.0136986301369863|                 0.0|                 0.0|0.010273972602739725|0.030821917808219176| 0.00684931506849315|  292|\n",
      "+------+-----+------------+-----------+----------+------------------+---------------+-----------+------+-----+------------------+-------------------------+------------------+--------------------+--------------------+--------------------+--------------------+--------------------+--------------------+--------------------+--------------------+------------------+--------------------+--------------------+--------------------+--------------------+--------------------+--------------------+--------------------+--------------------+-----+\n",
      "only showing top 20 rows\n",
      "\n"
     ]
    }
   ],
   "source": [
    "# feature ten: Add page view related features: calculate number of visited pages by users excluding Cancellation Confirmation and Cancel pages\n",
    "# the features are 17 in number\n",
    "df_page_view=df.groupBy('userId').pivot('page').count()\n",
    "df_page_view=df_page_view.na.fill(0).drop('Cancellation Confirmation','Cancel')\n",
    "\n",
    "df_page_totalview=df.filter(\"page != 'Cancellation Confirmation' and page != 'Cancel'\" ).groupBy('userId').count()\n",
    "\n",
    "# convert actual number of visited pages to percentage \n",
    "df_page_view=df_page_view.join(df_page_totalview,['userId'])\n",
    "columns=df_page_view.columns\n",
    "columns=[column for column in columns if column not in ('userId', 'count')]\n",
    "\n",
    "for colName in columns:\n",
    "    df_page_view = df_page_view.withColumn(colName, col(colName)/col('count'))\n",
    "\n",
    "overall_data = feat_nine.join(df_page_view,[\"userId\"])\n",
    "overall_data.show()"
   ]
  },
  {
   "cell_type": "markdown",
   "metadata": {},
   "source": [
    "# Modeling\n",
    "Split the full dataset into train, test, and validation sets. Test out several of the machine learning methods you learned. Evaluate the accuracy of the various models, tuning parameters as necessary. Determine your winning model based on test accuracy and report results on the validation set. Since the churned users are a fairly small subset, I suggest using F1 score as the metric to optimize."
   ]
  },
  {
   "cell_type": "code",
   "execution_count": 40,
   "metadata": {},
   "outputs": [],
   "source": [
    "overall_data = overall_data.drop(\"userId\") #we do not need userId for modelling\n",
    "feature_columns = [col for col in overall_data.columns if col!='churn'] #feature columns don't include churn as that is the target"
   ]
  },
  {
   "cell_type": "code",
   "execution_count": 41,
   "metadata": {},
   "outputs": [
    {
     "name": "stdout",
     "output_type": "stream",
     "text": [
      "root\n",
      " |-- churn: long (nullable = true)\n",
      " |-- artist_count: long (nullable = false)\n",
      " |-- visit_count: long (nullable = false)\n",
      " |-- song_count: long (nullable = false)\n",
      " |-- total_length: double (nullable = true)\n",
      " |-- registered_days: integer (nullable = true)\n",
      " |-- last_recent: integer (nullable = true)\n",
      " |-- gender: integer (nullable = true)\n",
      " |-- level: integer (nullable = true)\n",
      " |-- avg_daily_items: double (nullable = true)\n",
      " |-- avg_session_duration_mins: double (nullable = false)\n",
      " |-- avg_gap_time_days: double (nullable = false)\n",
      " |-- About: double (nullable = true)\n",
      " |-- Add Friend: double (nullable = true)\n",
      " |-- Add to Playlist: double (nullable = true)\n",
      " |-- Downgrade: double (nullable = true)\n",
      " |-- Error: double (nullable = true)\n",
      " |-- Help: double (nullable = true)\n",
      " |-- Home: double (nullable = true)\n",
      " |-- Logout: double (nullable = true)\n",
      " |-- NextSong: double (nullable = true)\n",
      " |-- Roll Advert: double (nullable = true)\n",
      " |-- Save Settings: double (nullable = true)\n",
      " |-- Settings: double (nullable = true)\n",
      " |-- Submit Downgrade: double (nullable = true)\n",
      " |-- Submit Upgrade: double (nullable = true)\n",
      " |-- Thumbs Down: double (nullable = true)\n",
      " |-- Thumbs Up: double (nullable = true)\n",
      " |-- Upgrade: double (nullable = true)\n",
      " |-- count: long (nullable = false)\n",
      "\n"
     ]
    }
   ],
   "source": [
    "overall_data.printSchema()\n"
   ]
  },
  {
   "cell_type": "code",
   "execution_count": 42,
   "metadata": {},
   "outputs": [],
   "source": [
    "pd_features = overall_data.drop(\"churn\").toPandas()\n"
   ]
  },
  {
   "cell_type": "code",
   "execution_count": 43,
   "metadata": {},
   "outputs": [
    {
     "name": "stderr",
     "output_type": "stream",
     "text": [
      "/Users/AkandeImisioluwa/Documents/Sparkify-Churn-Detector/sparkify-env/lib/python3.7/site-packages/ipykernel_launcher.py:3: UserWarning: To output multiple subplots, the figure containing the passed axes is being cleared\n",
      "  This is separate from the ipykernel package so we can avoid doing imports until\n"
     ]
    },
    {
     "data": {
      "image/png": "[encoded data removed]",
      "text/plain": [
       "<Figure size 2160x1800 with 30 Axes>"
      ]
     },
     "metadata": {
      "needs_background": "light"
     },
     "output_type": "display_data"
    }
   ],
   "source": [
    "fig = plt.figure(figsize=(30,25))\n",
    "ax = fig.gca()\n",
    "h = pd_features.hist(ax=ax)"
   ]
  },
  {
   "cell_type": "code",
   "execution_count": 44,
   "metadata": {},
   "outputs": [],
   "source": [
    "train, test = overall_data.randomSplit([0.7, 0.3], seed=42)\n",
    "train = train.cache()"
   ]
  },
  {
   "cell_type": "code",
   "execution_count": 45,
   "metadata": {},
   "outputs": [],
   "source": [
    "def build_model(classifier, param):\n",
    "    \"\"\"\n",
    "    Builds a model based on the inputs\n",
    "    Input:\n",
    "    classifier - type of classifier\n",
    "    param - built param grid\n",
    "    Output :\n",
    "    model - ML pipeline model\n",
    "    \"\"\"\n",
    "    assembler = VectorAssembler(inputCols=feature_columns, outputCol=\"features\")\n",
    "    scaler = MinMaxScaler(inputCol=\"features\", outputCol=\"scaled_features\")\n",
    "    pipeline = Pipeline(stages=[assembler, scaler, classifier])\n",
    "\n",
    "    model = CrossValidator(\n",
    "        estimator=pipeline,\n",
    "        estimatorParamMaps=param,\n",
    "        evaluator = MulticlassClassificationEvaluator(labelCol='churn', metricName='f1'),\n",
    "        numFolds=5,\n",
    "    )\n",
    "    return model"
   ]
  },
  {
   "cell_type": "markdown",
   "metadata": {},
   "source": [
    "#### Logistic Regression"
   ]
  },
  {
   "cell_type": "code",
   "execution_count": 46,
   "metadata": {},
   "outputs": [],
   "source": [
    "# Approach 1 : Logistic Regression Classifier\n",
    "lr = LogisticRegression(featuresCol=\"scaled_features\", labelCol=\"churn\")\n",
    "lr_param = ParamGridBuilder().build()\n",
    "lr_model = build_model(lr, lr_param)"
   ]
  },
  {
   "cell_type": "code",
   "execution_count": 47,
   "metadata": {},
   "outputs": [
    {
     "name": "stdout",
     "output_type": "stream",
     "text": [
      "CPU times: user 4.66 s, sys: 1.63 s, total: 6.29 s\n",
      "Wall time: 18min 15s\n"
     ]
    }
   ],
   "source": [
    "%%time\n",
    "lr_fit_model = lr_model.fit(train)"
   ]
  },
  {
   "cell_type": "code",
   "execution_count": 48,
   "metadata": {},
   "outputs": [],
   "source": [
    "lr_pred = lr_fit_model.transform(test)"
   ]
  },
  {
   "cell_type": "code",
   "execution_count": 49,
   "metadata": {},
   "outputs": [
    {
     "data": {
      "text/plain": [
       "[Row(prediction=0.0), Row(prediction=1.0)]"
      ]
     },
     "execution_count": 49,
     "metadata": {},
     "output_type": "execute_result"
    }
   ],
   "source": [
    "lr_pred.select(\"prediction\").dropDuplicates().collect()\n"
   ]
  },
  {
   "cell_type": "code",
   "execution_count": 50,
   "metadata": {},
   "outputs": [
    {
     "name": "stdout",
     "output_type": "stream",
     "text": [
      "The metrics for the Logistic Regression Classifier are as follows :\n",
      "The F-1 Score is 0.8537815126050421\n",
      "The accuracy is 0.85\n"
     ]
    }
   ],
   "source": [
    "# Obtain different evaluation metrics for Logistic Regression\n",
    "evaluator = MulticlassClassificationEvaluator(predictionCol=\"prediction\", labelCol=\"churn\")\n",
    "print(\"The metrics for the Logistic Regression Classifier are as follows :\")\n",
    "print(\"The F-1 Score is {}\".format(evaluator.evaluate(lr_pred, {evaluator.metricName : \"f1\"})))\n",
    "print(\"The accuracy is {}\".format(evaluator.evaluate(lr_pred, {evaluator.metricName : \"accuracy\"})))"
   ]
  },
  {
   "cell_type": "markdown",
   "metadata": {},
   "source": [
    "#### Random Forest Classifier"
   ]
  },
  {
   "cell_type": "code",
   "execution_count": 51,
   "metadata": {},
   "outputs": [],
   "source": [
    "rf = RandomForestClassifier(featuresCol=\"scaled_features\", labelCol=\"churn\")\n",
    "rf_param = ParamGridBuilder().build()\n",
    "rf_model = build_model(rf, rf_param)"
   ]
  },
  {
   "cell_type": "code",
   "execution_count": 52,
   "metadata": {},
   "outputs": [
    {
     "name": "stdout",
     "output_type": "stream",
     "text": [
      "CPU times: user 1 s, sys: 456 ms, total: 1.46 s\n",
      "Wall time: 2min 53s\n"
     ]
    }
   ],
   "source": [
    "%%time\n",
    "rf_fit_model = rf_model.fit(train)"
   ]
  },
  {
   "cell_type": "code",
   "execution_count": 53,
   "metadata": {},
   "outputs": [],
   "source": [
    "rf_pred = rf_fit_model.transform(test)"
   ]
  },
  {
   "cell_type": "code",
   "execution_count": 54,
   "metadata": {},
   "outputs": [
    {
     "name": "stdout",
     "output_type": "stream",
     "text": [
      "The metrics for our Random Forest Classifier are as follows :\n",
      "The accuracy is 0.85\n",
      "The F-1 Score is 0.8345263157894737\n"
     ]
    }
   ],
   "source": [
    "# Obtain different evaluation metrics for Random Forest\n",
    "\n",
    "evaluator = MulticlassClassificationEvaluator(predictionCol = \"prediction\", labelCol=\"churn\")\n",
    "print(\"The metrics for our Random Forest Classifier are as follows :\")\n",
    "print(\"The accuracy is {}\".format(evaluator.evaluate(rf_pred, {evaluator.metricName : \"accuracy\"})))\n",
    "print(\"The F-1 Score is {}\".format(evaluator.evaluate(rf_pred, {evaluator.metricName : \"f1\"})))"
   ]
  },
  {
   "cell_type": "markdown",
   "metadata": {},
   "source": [
    "#### Support Vector Machine Classifier"
   ]
  },
  {
   "cell_type": "code",
   "execution_count": 55,
   "metadata": {},
   "outputs": [],
   "source": [
    "svm_clf = LinearSVC(featuresCol=\"scaled_features\", labelCol=\"churn\")\n",
    "svm_clf_param = ParamGridBuilder().build()\n",
    "svm_clf_model = build_model(svm_clf, svm_clf_param)"
   ]
  },
  {
   "cell_type": "code",
   "execution_count": 56,
   "metadata": {},
   "outputs": [
    {
     "name": "stdout",
     "output_type": "stream",
     "text": [
      "CPU times: user 1min 1s, sys: 42.4 s, total: 1min 43s\n",
      "Wall time: 4h 33min 36s\n"
     ]
    }
   ],
   "source": [
    "%%time\n",
    "svm_clf_fit_model = svm_clf_model.fit(train)"
   ]
  },
  {
   "cell_type": "code",
   "execution_count": 57,
   "metadata": {},
   "outputs": [],
   "source": [
    "svm_clf_pred = svm_clf_fit_model.transform(test)"
   ]
  },
  {
   "cell_type": "code",
   "execution_count": 58,
   "metadata": {},
   "outputs": [
    {
     "name": "stdout",
     "output_type": "stream",
     "text": [
      "The metrics for our Support Vector Machine classifier are as follows: \n",
      "The accuracy is 0.8333333333333334\n",
      "The F-1 Score is 0.8250517598343685\n"
     ]
    }
   ],
   "source": [
    "# Obtain different evaluation metrics for SVM \n",
    "\n",
    "evaluator = MulticlassClassificationEvaluator(predictionCol = \"prediction\", labelCol=\"churn\")\n",
    "print(\"The metrics for our Support Vector Machine classifier are as follows: \")\n",
    "print(\"The accuracy is {}\".format(evaluator.evaluate(svm_clf_pred, {evaluator.metricName : \"accuracy\"})))\n",
    "print(\"The F-1 Score is {}\".format(evaluator.evaluate(svm_clf_pred, {evaluator.metricName : \"f1\"})))"
   ]
  },
  {
   "cell_type": "markdown",
   "metadata": {},
   "source": [
    "#### Gradient Boosted Trees"
   ]
  },
  {
   "cell_type": "code",
   "execution_count": 59,
   "metadata": {},
   "outputs": [],
   "source": [
    "gbt = GBTClassifier(featuresCol=\"scaled_features\", labelCol=\"churn\")\n",
    "gbt_param = ParamGridBuilder().build()\n",
    "gbt_model = build_model(gbt, gbt_param)"
   ]
  },
  {
   "cell_type": "code",
   "execution_count": 60,
   "metadata": {},
   "outputs": [
    {
     "name": "stdout",
     "output_type": "stream",
     "text": [
      "CPU times: user 39.5 s, sys: 27.6 s, total: 1min 7s\n",
      "Wall time: 2h 18min 55s\n"
     ]
    }
   ],
   "source": [
    "%%time\n",
    "gbt_fit_model = gbt_model.fit(train)"
   ]
  },
  {
   "cell_type": "code",
   "execution_count": 61,
   "metadata": {},
   "outputs": [],
   "source": [
    "gbt_pred = gbt_fit_model.transform(test)\n"
   ]
  },
  {
   "cell_type": "code",
   "execution_count": 62,
   "metadata": {},
   "outputs": [
    {
     "name": "stdout",
     "output_type": "stream",
     "text": [
      "The metrics for our Gradient Boosted Trees Classifier are as follows: \n",
      "The accuracy is 0.9\n",
      "The F-1 Score is 0.8950310559006212\n"
     ]
    }
   ],
   "source": [
    "# Obtain different evaluation metrics for Gradient Boosted Trees\n",
    "\n",
    "evaluator = MulticlassClassificationEvaluator(predictionCol = \"prediction\", labelCol=\"churn\")\n",
    "print(\"The metrics for our Gradient Boosted Trees Classifier are as follows: \")\n",
    "print(\"The accuracy is {}\".format(evaluator.evaluate(gbt_pred, {evaluator.metricName : \"accuracy\"})))\n",
    "print(\"The F-1 Score is {}\".format(evaluator.evaluate(gbt_pred, {evaluator.metricName : \"f1\"})))"
   ]
  },
  {
   "cell_type": "markdown",
   "metadata": {},
   "source": [
    "### Model Analysis and improvement using hyperparameter tuning"
   ]
  },
  {
   "cell_type": "markdown",
   "metadata": {},
   "source": [
    "From the result above comparing the four models used shows the Gradient Boosted classifier performs better with  F1 score of 75% and accuracy of 75% when compared to the remaining three models."
   ]
  },
  {
   "cell_type": "code",
   "execution_count": 114,
   "metadata": {},
   "outputs": [
    {
     "data": {
      "text/html": [
       "<div>\n",
       "<style scoped>\n",
       "    .dataframe tbody tr th:only-of-type {\n",
       "        vertical-align: middle;\n",
       "    }\n",
       "\n",
       "    .dataframe tbody tr th {\n",
       "        vertical-align: top;\n",
       "    }\n",
       "\n",
       "    .dataframe thead th {\n",
       "        text-align: right;\n",
       "    }\n",
       "</style>\n",
       "<table border=\"1\" class=\"dataframe\">\n",
       "  <thead>\n",
       "    <tr style=\"text-align: right;\">\n",
       "      <th></th>\n",
       "      <th>feature</th>\n",
       "      <th>importance</th>\n",
       "    </tr>\n",
       "  </thead>\n",
       "  <tbody>\n",
       "    <tr>\n",
       "      <th>0</th>\n",
       "      <td>last_recent</td>\n",
       "      <td>0.280027</td>\n",
       "    </tr>\n",
       "    <tr>\n",
       "      <th>1</th>\n",
       "      <td>registered_days</td>\n",
       "      <td>0.090892</td>\n",
       "    </tr>\n",
       "    <tr>\n",
       "      <th>2</th>\n",
       "      <td>avg_gap_time_days</td>\n",
       "      <td>0.079960</td>\n",
       "    </tr>\n",
       "    <tr>\n",
       "      <th>3</th>\n",
       "      <td>Thumbs Down</td>\n",
       "      <td>0.077853</td>\n",
       "    </tr>\n",
       "    <tr>\n",
       "      <th>4</th>\n",
       "      <td>Thumbs Up</td>\n",
       "      <td>0.049719</td>\n",
       "    </tr>\n",
       "    <tr>\n",
       "      <th>5</th>\n",
       "      <td>Downgrade</td>\n",
       "      <td>0.039774</td>\n",
       "    </tr>\n",
       "    <tr>\n",
       "      <th>6</th>\n",
       "      <td>NextSong</td>\n",
       "      <td>0.033376</td>\n",
       "    </tr>\n",
       "    <tr>\n",
       "      <th>7</th>\n",
       "      <td>artist_count</td>\n",
       "      <td>0.031402</td>\n",
       "    </tr>\n",
       "    <tr>\n",
       "      <th>8</th>\n",
       "      <td>Home</td>\n",
       "      <td>0.027294</td>\n",
       "    </tr>\n",
       "    <tr>\n",
       "      <th>9</th>\n",
       "      <td>Roll Advert</td>\n",
       "      <td>0.026847</td>\n",
       "    </tr>\n",
       "    <tr>\n",
       "      <th>10</th>\n",
       "      <td>Add Friend</td>\n",
       "      <td>0.022993</td>\n",
       "    </tr>\n",
       "    <tr>\n",
       "      <th>11</th>\n",
       "      <td>Logout</td>\n",
       "      <td>0.021278</td>\n",
       "    </tr>\n",
       "    <tr>\n",
       "      <th>12</th>\n",
       "      <td>avg_daily_items</td>\n",
       "      <td>0.020990</td>\n",
       "    </tr>\n",
       "    <tr>\n",
       "      <th>13</th>\n",
       "      <td>Settings</td>\n",
       "      <td>0.020874</td>\n",
       "    </tr>\n",
       "    <tr>\n",
       "      <th>14</th>\n",
       "      <td>Help</td>\n",
       "      <td>0.019887</td>\n",
       "    </tr>\n",
       "    <tr>\n",
       "      <th>15</th>\n",
       "      <td>Upgrade</td>\n",
       "      <td>0.019252</td>\n",
       "    </tr>\n",
       "    <tr>\n",
       "      <th>16</th>\n",
       "      <td>Save Settings</td>\n",
       "      <td>0.018154</td>\n",
       "    </tr>\n",
       "    <tr>\n",
       "      <th>17</th>\n",
       "      <td>song_count</td>\n",
       "      <td>0.018068</td>\n",
       "    </tr>\n",
       "    <tr>\n",
       "      <th>18</th>\n",
       "      <td>count</td>\n",
       "      <td>0.017909</td>\n",
       "    </tr>\n",
       "    <tr>\n",
       "      <th>19</th>\n",
       "      <td>Add to Playlist</td>\n",
       "      <td>0.013593</td>\n",
       "    </tr>\n",
       "    <tr>\n",
       "      <th>20</th>\n",
       "      <td>avg_session_duration_mins</td>\n",
       "      <td>0.013178</td>\n",
       "    </tr>\n",
       "    <tr>\n",
       "      <th>21</th>\n",
       "      <td>total_length</td>\n",
       "      <td>0.013151</td>\n",
       "    </tr>\n",
       "    <tr>\n",
       "      <th>22</th>\n",
       "      <td>Error</td>\n",
       "      <td>0.012292</td>\n",
       "    </tr>\n",
       "    <tr>\n",
       "      <th>23</th>\n",
       "      <td>Submit Upgrade</td>\n",
       "      <td>0.010557</td>\n",
       "    </tr>\n",
       "    <tr>\n",
       "      <th>24</th>\n",
       "      <td>About</td>\n",
       "      <td>0.008860</td>\n",
       "    </tr>\n",
       "    <tr>\n",
       "      <th>25</th>\n",
       "      <td>gender</td>\n",
       "      <td>0.006299</td>\n",
       "    </tr>\n",
       "    <tr>\n",
       "      <th>26</th>\n",
       "      <td>visit_count</td>\n",
       "      <td>0.005517</td>\n",
       "    </tr>\n",
       "    <tr>\n",
       "      <th>27</th>\n",
       "      <td>level</td>\n",
       "      <td>0.000000</td>\n",
       "    </tr>\n",
       "    <tr>\n",
       "      <th>28</th>\n",
       "      <td>Submit Downgrade</td>\n",
       "      <td>0.000000</td>\n",
       "    </tr>\n",
       "  </tbody>\n",
       "</table>\n",
       "</div>"
      ],
      "text/plain": [
       "                      feature  importance\n",
       "0                 last_recent    0.280027\n",
       "1             registered_days    0.090892\n",
       "2           avg_gap_time_days    0.079960\n",
       "3                 Thumbs Down    0.077853\n",
       "4                   Thumbs Up    0.049719\n",
       "5                   Downgrade    0.039774\n",
       "6                    NextSong    0.033376\n",
       "7                artist_count    0.031402\n",
       "8                        Home    0.027294\n",
       "9                 Roll Advert    0.026847\n",
       "10                 Add Friend    0.022993\n",
       "11                     Logout    0.021278\n",
       "12            avg_daily_items    0.020990\n",
       "13                   Settings    0.020874\n",
       "14                       Help    0.019887\n",
       "15                    Upgrade    0.019252\n",
       "16              Save Settings    0.018154\n",
       "17                 song_count    0.018068\n",
       "18                      count    0.017909\n",
       "19            Add to Playlist    0.013593\n",
       "20  avg_session_duration_mins    0.013178\n",
       "21               total_length    0.013151\n",
       "22                      Error    0.012292\n",
       "23             Submit Upgrade    0.010557\n",
       "24                      About    0.008860\n",
       "25                     gender    0.006299\n",
       "26                visit_count    0.005517\n",
       "27                      level    0.000000\n",
       "28           Submit Downgrade    0.000000"
      ]
     },
     "execution_count": 114,
     "metadata": {},
     "output_type": "execute_result"
    }
   ],
   "source": [
    "rf_feature_imp = pd.DataFrame({\"feature\":feature_columns,\"importance\" : rf_fit_model.bestModel.stages[2].featureImportances})\n",
    "rf_feature_imp.sort_values(by = \"importance\",ascending = False).reset_index(drop=True)"
   ]
  },
  {
   "cell_type": "code",
   "execution_count": 115,
   "metadata": {},
   "outputs": [],
   "source": [
    "classifier = RandomForestClassifier(featuresCol=\"scaled_features\", labelCol=\"churn\")\n"
   ]
  },
  {
   "cell_type": "code",
   "execution_count": 116,
   "metadata": {},
   "outputs": [],
   "source": [
    "param_grid_rf = ParamGridBuilder() \\\n",
    "    .addGrid(classifier.maxDepth,[15,30]) \\\n",
    "    .addGrid(classifier.numTrees, [30, 80]) \\\n",
    "    .build()\n",
    "\n",
    "model_tuned = build_model(classifier, param_grid_rf)"
   ]
  },
  {
   "cell_type": "code",
   "execution_count": 117,
   "metadata": {},
   "outputs": [
    {
     "name": "stdout",
     "output_type": "stream",
     "text": [
      "CPU times: user 7.16 s, sys: 3.15 s, total: 10.3 s\n",
      "Wall time: 19min 4s\n"
     ]
    }
   ],
   "source": [
    "%%time\n",
    "fit_model_tuned = model_tuned.fit(train)"
   ]
  },
  {
   "cell_type": "code",
   "execution_count": 118,
   "metadata": {},
   "outputs": [],
   "source": [
    "best_model = fit_model_tuned.bestModel\n"
   ]
  },
  {
   "cell_type": "code",
   "execution_count": 119,
   "metadata": {},
   "outputs": [],
   "source": [
    "best_model_pred = best_model.transform(test)\n"
   ]
  },
  {
   "cell_type": "code",
   "execution_count": 120,
   "metadata": {},
   "outputs": [
    {
     "name": "stdout",
     "output_type": "stream",
     "text": [
      "f1 using tuned RF: 0.8499999999999999\n",
      "accuracy using tuned RF: 0.8666666666666667\n"
     ]
    }
   ],
   "source": [
    "evaluator = MulticlassClassificationEvaluator(predictionCol = \"prediction\", labelCol=\"churn\")\n",
    "\n",
    "best_f1_score = evaluator.evaluate(best_model_pred, {evaluator.metricName: \"f1\"})\n",
    "best_accuracy = evaluator.evaluate(best_model_pred, {evaluator.metricName: \"accuracy\"})\n",
    "\n",
    "print(\"f1 using tuned RF: {}\".format(best_f1_score))\n",
    "print(\"accuracy using tuned RF: {}\".format(best_accuracy))"
   ]
  },
  {
   "cell_type": "code",
   "execution_count": 121,
   "metadata": {},
   "outputs": [
    {
     "data": {
      "text/html": [
       "<div>\n",
       "<style scoped>\n",
       "    .dataframe tbody tr th:only-of-type {\n",
       "        vertical-align: middle;\n",
       "    }\n",
       "\n",
       "    .dataframe tbody tr th {\n",
       "        vertical-align: top;\n",
       "    }\n",
       "\n",
       "    .dataframe thead th {\n",
       "        text-align: right;\n",
       "    }\n",
       "</style>\n",
       "<table border=\"1\" class=\"dataframe\">\n",
       "  <thead>\n",
       "    <tr style=\"text-align: right;\">\n",
       "      <th></th>\n",
       "      <th>feature</th>\n",
       "      <th>importance</th>\n",
       "    </tr>\n",
       "  </thead>\n",
       "  <tbody>\n",
       "    <tr>\n",
       "      <th>0</th>\n",
       "      <td>last_recent</td>\n",
       "      <td>0.228201</td>\n",
       "    </tr>\n",
       "    <tr>\n",
       "      <th>1</th>\n",
       "      <td>registered_days</td>\n",
       "      <td>0.116443</td>\n",
       "    </tr>\n",
       "    <tr>\n",
       "      <th>2</th>\n",
       "      <td>avg_gap_time_days</td>\n",
       "      <td>0.071599</td>\n",
       "    </tr>\n",
       "    <tr>\n",
       "      <th>3</th>\n",
       "      <td>Thumbs Down</td>\n",
       "      <td>0.061205</td>\n",
       "    </tr>\n",
       "    <tr>\n",
       "      <th>4</th>\n",
       "      <td>artist_count</td>\n",
       "      <td>0.050523</td>\n",
       "    </tr>\n",
       "    <tr>\n",
       "      <th>5</th>\n",
       "      <td>Thumbs Up</td>\n",
       "      <td>0.037731</td>\n",
       "    </tr>\n",
       "    <tr>\n",
       "      <th>6</th>\n",
       "      <td>Settings</td>\n",
       "      <td>0.030702</td>\n",
       "    </tr>\n",
       "    <tr>\n",
       "      <th>7</th>\n",
       "      <td>visit_count</td>\n",
       "      <td>0.030648</td>\n",
       "    </tr>\n",
       "    <tr>\n",
       "      <th>8</th>\n",
       "      <td>NextSong</td>\n",
       "      <td>0.030302</td>\n",
       "    </tr>\n",
       "    <tr>\n",
       "      <th>9</th>\n",
       "      <td>Roll Advert</td>\n",
       "      <td>0.027832</td>\n",
       "    </tr>\n",
       "    <tr>\n",
       "      <th>10</th>\n",
       "      <td>song_count</td>\n",
       "      <td>0.025772</td>\n",
       "    </tr>\n",
       "    <tr>\n",
       "      <th>11</th>\n",
       "      <td>Add to Playlist</td>\n",
       "      <td>0.025353</td>\n",
       "    </tr>\n",
       "    <tr>\n",
       "      <th>12</th>\n",
       "      <td>avg_daily_items</td>\n",
       "      <td>0.024785</td>\n",
       "    </tr>\n",
       "    <tr>\n",
       "      <th>13</th>\n",
       "      <td>Downgrade</td>\n",
       "      <td>0.022753</td>\n",
       "    </tr>\n",
       "    <tr>\n",
       "      <th>14</th>\n",
       "      <td>Upgrade</td>\n",
       "      <td>0.021881</td>\n",
       "    </tr>\n",
       "    <tr>\n",
       "      <th>15</th>\n",
       "      <td>count</td>\n",
       "      <td>0.020653</td>\n",
       "    </tr>\n",
       "    <tr>\n",
       "      <th>16</th>\n",
       "      <td>avg_session_duration_mins</td>\n",
       "      <td>0.020233</td>\n",
       "    </tr>\n",
       "    <tr>\n",
       "      <th>17</th>\n",
       "      <td>Help</td>\n",
       "      <td>0.019419</td>\n",
       "    </tr>\n",
       "    <tr>\n",
       "      <th>18</th>\n",
       "      <td>Error</td>\n",
       "      <td>0.017766</td>\n",
       "    </tr>\n",
       "    <tr>\n",
       "      <th>19</th>\n",
       "      <td>total_length</td>\n",
       "      <td>0.017256</td>\n",
       "    </tr>\n",
       "    <tr>\n",
       "      <th>20</th>\n",
       "      <td>Home</td>\n",
       "      <td>0.015332</td>\n",
       "    </tr>\n",
       "    <tr>\n",
       "      <th>21</th>\n",
       "      <td>Save Settings</td>\n",
       "      <td>0.015242</td>\n",
       "    </tr>\n",
       "    <tr>\n",
       "      <th>22</th>\n",
       "      <td>Add Friend</td>\n",
       "      <td>0.015111</td>\n",
       "    </tr>\n",
       "    <tr>\n",
       "      <th>23</th>\n",
       "      <td>About</td>\n",
       "      <td>0.014869</td>\n",
       "    </tr>\n",
       "    <tr>\n",
       "      <th>24</th>\n",
       "      <td>Submit Upgrade</td>\n",
       "      <td>0.013687</td>\n",
       "    </tr>\n",
       "    <tr>\n",
       "      <th>25</th>\n",
       "      <td>Logout</td>\n",
       "      <td>0.011158</td>\n",
       "    </tr>\n",
       "    <tr>\n",
       "      <th>26</th>\n",
       "      <td>gender</td>\n",
       "      <td>0.007335</td>\n",
       "    </tr>\n",
       "    <tr>\n",
       "      <th>27</th>\n",
       "      <td>Submit Downgrade</td>\n",
       "      <td>0.003181</td>\n",
       "    </tr>\n",
       "    <tr>\n",
       "      <th>28</th>\n",
       "      <td>level</td>\n",
       "      <td>0.003029</td>\n",
       "    </tr>\n",
       "  </tbody>\n",
       "</table>\n",
       "</div>"
      ],
      "text/plain": [
       "                      feature  importance\n",
       "0                 last_recent    0.228201\n",
       "1             registered_days    0.116443\n",
       "2           avg_gap_time_days    0.071599\n",
       "3                 Thumbs Down    0.061205\n",
       "4                artist_count    0.050523\n",
       "5                   Thumbs Up    0.037731\n",
       "6                    Settings    0.030702\n",
       "7                 visit_count    0.030648\n",
       "8                    NextSong    0.030302\n",
       "9                 Roll Advert    0.027832\n",
       "10                 song_count    0.025772\n",
       "11            Add to Playlist    0.025353\n",
       "12            avg_daily_items    0.024785\n",
       "13                  Downgrade    0.022753\n",
       "14                    Upgrade    0.021881\n",
       "15                      count    0.020653\n",
       "16  avg_session_duration_mins    0.020233\n",
       "17                       Help    0.019419\n",
       "18                      Error    0.017766\n",
       "19               total_length    0.017256\n",
       "20                       Home    0.015332\n",
       "21              Save Settings    0.015242\n",
       "22                 Add Friend    0.015111\n",
       "23                      About    0.014869\n",
       "24             Submit Upgrade    0.013687\n",
       "25                     Logout    0.011158\n",
       "26                     gender    0.007335\n",
       "27           Submit Downgrade    0.003181\n",
       "28                      level    0.003029"
      ]
     },
     "execution_count": 121,
     "metadata": {},
     "output_type": "execute_result"
    }
   ],
   "source": [
    "rf_tuned_feature_imp = pd.DataFrame({\"feature\":feature_columns,\"importance\" : best_model.stages[2].featureImportances})\n",
    "rf_tuned_feature_imp.sort_values(by = \"importance\",ascending = False).reset_index(drop=True)"
   ]
  },
  {
   "cell_type": "markdown",
   "metadata": {},
   "source": [
    "# Final Steps\n",
    "Clean up your code, adding comments and renaming variables to make the code easier to read and maintain. Refer to the Spark Project Overview page and Data Scientist Capstone Project Rubric to make sure you are including all components of the capstone project and meet all expectations. Remember, this includes thorough documentation in a README file in a Github repository, as well as a web app or blog post."
   ]
  },
  {
   "cell_type": "markdown",
   "metadata": {},
   "source": [
    "## Conclusion"
   ]
  },
  {
   "cell_type": "markdown",
   "metadata": {},
   "source": [
    "In this notebook, we have successfully implemented an end to end machine learning project in order to predict customer's churn. Necessary preprocessing activities which include checking for null and duplicate values were performed. A total of 29 features and the target churn label were built for the model. We selected four different models on our data which include Logistic Regression, RandomForest, Support Vector Machines, and Gradient Boosted Trees. We compared the performance of all four models and Random forest outperformed the rest by a large margin in its metrics and time utilized. So we selected it as our final model along with doing some grid search to improve the performance of the model."
   ]
  },
  {
   "cell_type": "markdown",
   "metadata": {},
   "source": [
    "### Reccommendation"
   ]
  },
  {
   "cell_type": "markdown",
   "metadata": {},
   "source": [
    "The models can be improved with a lot more factors, such as adding more data, domain expertise coupled with feature Engineering. Although the volume of data may required tools such as spark to analyze, we can use more data to have better results as the user base grow.\n",
    "\n",
    "Currently, we have about 223106 records of unique users, and we only use 70% of the data for training. The model has huge potential to improve in performance if the sample data size increases. That said, the model has a huge potential to improve if the sample size increase.\n",
    "\n",
    "However, due to the fact that the number of churned users, when compared to active users, is smaller, we employed F1 score and accuracy as the metric for optimization."
   ]
  },
  {
   "cell_type": "markdown",
   "metadata": {},
   "source": [
    "### Reflections"
   ]
  },
  {
   "cell_type": "markdown",
   "metadata": {},
   "source": [
    "This project given exposure to Apache spark environment which is typically used to analyze big data applications. Customer churn is a vital factor needed to be monitored by every company in order to determine how well they are doing in their businesses. The ability to early detect customers with high probability of churning will save the company a whole lot of cost.\n",
    "\n",
    "One of the interesting but challenging part of the project is identifying the features that are responsible for for a customer churn or not. Identifying and selecting relevant features are vital to a good model and can be challenging at times. The exploratory data analysis play important role in this process. Another interesting part of the project is training the classifiers, classifiers comparison and fine tuning parameters.\n",
    "\n",
    "Generally, Music companies such as this can reduce customers churn by looking inwards to primary causes of churn over certain period of time. Events such as attracting targetted users with promotional offers for instance new users or persistent users, lower subscription price during festival periods, improve user experience and interaction on the music application at intervals can be practiced to reduce churn rate to the bearest minimum.  "
   ]
  }
 ],
 "metadata": {
  "kernelspec": {
   "display_name": "sparkify-env",
   "language": "python",
   "name": "sparkify-env"
  },
  "language_info": {
   "codemirror_mode": {
    "name": "ipython",
    "version": 3
   },
   "file_extension": ".py",
   "mimetype": "text/x-python",
   "name": "python",
   "nbconvert_exporter": "python",
   "pygments_lexer": "ipython3",
   "version": "3.7.6"
  }
 },
 "nbformat": 4,
 "nbformat_minor": 2
}
